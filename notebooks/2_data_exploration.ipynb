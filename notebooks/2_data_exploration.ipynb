{
 "cells": [
  {
   "cell_type": "markdown",
   "metadata": {},
   "source": [
    "# Load dataset\n"
   ]
  },
  {
   "cell_type": "code",
   "execution_count": 1,
   "metadata": {},
   "outputs": [],
   "source": [
    "from pathlib import Path\n",
    "\n",
    "base_path = Path(\".\").absolute().parents[0]"
   ]
  },
  {
   "cell_type": "code",
   "execution_count": 2,
   "metadata": {},
   "outputs": [
    {
     "data": {
      "text/plain": [
       "PosixPath('/home/20014946/Documents/Final_Project_PEM/Final_Project_PEM')"
      ]
     },
     "execution_count": 2,
     "metadata": {},
     "output_type": "execute_result"
    }
   ],
   "source": [
    "base_path"
   ]
  },
  {
   "cell_type": "code",
   "execution_count": 3,
   "metadata": {},
   "outputs": [],
   "source": [
    "import sys\n",
    "\n",
    "sys.path.insert(0, str(base_path / \"src\"))"
   ]
  },
  {
   "cell_type": "code",
   "execution_count": 4,
   "metadata": {},
   "outputs": [
    {
     "data": {
      "text/plain": [
       "'/home/20014946/Documents/Final_Project_PEM/Final_Project_PEM/src'"
      ]
     },
     "execution_count": 4,
     "metadata": {},
     "output_type": "execute_result"
    }
   ],
   "source": [
    "str(base_path / \"src\")"
   ]
  },
  {
   "cell_type": "code",
   "execution_count": 5,
   "metadata": {},
   "outputs": [],
   "source": [
    "from google.cloud import bigquery\n",
    "\n",
    "client = bigquery.Client(project=\"artefact-taxonomy\")\n",
    "\n",
    "\n",
    "from utils.text_utils import clean_html\n",
    "from sklearn.model_selection import train_test_split"
   ]
  },
  {
   "cell_type": "code",
   "execution_count": 6,
   "metadata": {},
   "outputs": [],
   "source": [
    "CUTOFF = 5\n",
    "\n",
    "# Define the product_id and target / label\n",
    "id_col = \"adeo_product_id\"\n",
    "title_col = \"title\"\n",
    "language_col = \"lang\"\n",
    "description_raw = \"description\"\n",
    "description_col = \"description_clean\"\n",
    "label_raw_col = \"mirakl_model_code\""
   ]
  },
  {
   "cell_type": "code",
   "execution_count": 7,
   "metadata": {},
   "outputs": [],
   "source": [
    "import pandas as pd\n",
    "import matplotlib.pylab as plt\n",
    "import seaborn as sns\n",
    "\n",
    "pd.options.mode.chained_assignment = None  # default='warn'"
   ]
  },
  {
   "cell_type": "code",
   "execution_count": 8,
   "metadata": {},
   "outputs": [],
   "source": [
    "df = pd.read_csv('../data/train.csv')"
   ]
  },
  {
   "cell_type": "markdown",
   "metadata": {},
   "source": [
    "# Data Exploration"
   ]
  },
  {
   "cell_type": "code",
   "execution_count": 9,
   "metadata": {},
   "outputs": [
    {
     "data": {
      "text/html": [
       "<div>\n",
       "<style scoped>\n",
       "    .dataframe tbody tr th:only-of-type {\n",
       "        vertical-align: middle;\n",
       "    }\n",
       "\n",
       "    .dataframe tbody tr th {\n",
       "        vertical-align: top;\n",
       "    }\n",
       "\n",
       "    .dataframe thead th {\n",
       "        text-align: right;\n",
       "    }\n",
       "</style>\n",
       "<table border=\"1\" class=\"dataframe\">\n",
       "  <thead>\n",
       "    <tr style=\"text-align: right;\">\n",
       "      <th></th>\n",
       "      <th>adeo_product_id</th>\n",
       "      <th>id</th>\n",
       "      <th>title</th>\n",
       "      <th>description</th>\n",
       "      <th>lang</th>\n",
       "      <th>attribute_code</th>\n",
       "      <th>attribute_label</th>\n",
       "      <th>attribute_type</th>\n",
       "      <th>is_multivalued</th>\n",
       "      <th>is_lov</th>\n",
       "      <th>attribute_value</th>\n",
       "      <th>lov_code</th>\n",
       "      <th>step_model_code</th>\n",
       "      <th>mirakl_model_code</th>\n",
       "      <th>data_source</th>\n",
       "      <th>description_clean</th>\n",
       "    </tr>\n",
       "  </thead>\n",
       "  <tbody>\n",
       "    <tr>\n",
       "      <th>0</th>\n",
       "      <td>85266696</td>\n",
       "      <td>b'\\xb1\\xd4q\\x83\\x89\\xcc\\xb1\\xec\\xd6\\x1a\\xdc\\xb...</td>\n",
       "      <td>Tapis tissé à la main move 4453 grau rouge - 1...</td>\n",
       "      <td>Facile d'entretien tapis de coton    Ce coton ...</td>\n",
       "      <td>FR</td>\n",
       "      <td>2419</td>\n",
       "      <td>Style</td>\n",
       "      <td>CHAR</td>\n",
       "      <td>0</td>\n",
       "      <td>1</td>\n",
       "      <td>['Moderne']</td>\n",
       "      <td>64985</td>\n",
       "      <td>200853</td>\n",
       "      <td>200853|TAPIS_DE_SALON_CHAMBRE_SALLE_A_MANGER|T...</td>\n",
       "      <td>BOMP</td>\n",
       "      <td>Facile d'entretien tapis de coton    Ce coton ...</td>\n",
       "    </tr>\n",
       "    <tr>\n",
       "      <th>1</th>\n",
       "      <td>85177753</td>\n",
       "      <td>b'\\xffT\\x8d\\xddQ\\x9a,N^\\x9d\\xf3\\x81\\xb8\\x8d2\\x...</td>\n",
       "      <td>Fodera per cuscino Naturals Mermaids (50 x 50 cm)</td>\n",
       "      <td>Se ti piace curare ogni singolo dettaglio dell...</td>\n",
       "      <td>IT</td>\n",
       "      <td>562</td>\n",
       "      <td>Forma</td>\n",
       "      <td>CHAR</td>\n",
       "      <td>0</td>\n",
       "      <td>1</td>\n",
       "      <td>['Quadrato']</td>\n",
       "      <td>900</td>\n",
       "      <td>202343</td>\n",
       "      <td>202343|HOUSSE_DE_COUSSIN|COUSSIN_ET_HOUSSE|R12...</td>\n",
       "      <td>BOMP</td>\n",
       "      <td>Se ti piace curare ogni singolo dettaglio dell...</td>\n",
       "    </tr>\n",
       "    <tr>\n",
       "      <th>2</th>\n",
       "      <td>84833908</td>\n",
       "      <td>b'\\x99\\xf8\\xc3\\xa2\\xc8\\x85vl\\x06\\x9e\\x855\\xee&lt;...</td>\n",
       "      <td>Cojín Liso Gris oscuro (40 x 16 x 40 cm)</td>\n",
       "      <td>&lt;p&gt;Si quieres darle a tu hogar un aire de orig...</td>\n",
       "      <td>ES</td>\n",
       "      <td>2419</td>\n",
       "      <td>Estilo</td>\n",
       "      <td>CHAR</td>\n",
       "      <td>0</td>\n",
       "      <td>1</td>\n",
       "      <td>['Diseño']</td>\n",
       "      <td>533</td>\n",
       "      <td>202345</td>\n",
       "      <td>202345|COUSSIN_DECORATIF|COUSSIN_ET_HOUSSE|R12...</td>\n",
       "      <td>BOMP</td>\n",
       "      <td>Si quieres darle a tu hogar un aire de origina...</td>\n",
       "    </tr>\n",
       "    <tr>\n",
       "      <th>3</th>\n",
       "      <td>84592677</td>\n",
       "      <td>b'\\\\#hC\\xc2\\x9b\"\\x16\\xc4\\x8e\\x10\\x9b\\x8a\\xab\\x...</td>\n",
       "      <td>PONTE RIALZATA 13 RUBINETTO LAVABO IN OTTONE N...</td>\n",
       "      <td>Questo rubinetto lavabo rialzato dal design el...</td>\n",
       "      <td>IT</td>\n",
       "      <td>1746</td>\n",
       "      <td>Colore</td>\n",
       "      <td>CHAR</td>\n",
       "      <td>1</td>\n",
       "      <td>1</td>\n",
       "      <td>['Nero opaco']</td>\n",
       "      <td>10106</td>\n",
       "      <td>201177</td>\n",
       "      <td>201177|MITIGEUR_DE_LAVABO|ROBINET_POUR_LAVABO_...</td>\n",
       "      <td>BOMP</td>\n",
       "      <td>Questo rubinetto lavabo rialzato dal design el...</td>\n",
       "    </tr>\n",
       "    <tr>\n",
       "      <th>4</th>\n",
       "      <td>84592677</td>\n",
       "      <td>b'\\xd0\\x83[\\xabC\\xda\\xef\\x1e\\xd3\\xd8\\xa8\\xa3\\x...</td>\n",
       "      <td>ROBINET DE LAVABO SURÉLEVÉ SUR PLAGE 13 EN LAI...</td>\n",
       "      <td>Ce robinet de lavabo surélevé au design épuré ...</td>\n",
       "      <td>FR</td>\n",
       "      <td>1746</td>\n",
       "      <td>Couleur</td>\n",
       "      <td>CHAR</td>\n",
       "      <td>1</td>\n",
       "      <td>1</td>\n",
       "      <td>['Noir mat']</td>\n",
       "      <td>10106</td>\n",
       "      <td>201177</td>\n",
       "      <td>201177|MITIGEUR_DE_LAVABO|ROBINET_POUR_LAVABO_...</td>\n",
       "      <td>BOMP</td>\n",
       "      <td>Ce robinet de lavabo surélevé au design épuré ...</td>\n",
       "    </tr>\n",
       "  </tbody>\n",
       "</table>\n",
       "</div>"
      ],
      "text/plain": [
       "   adeo_product_id                                                 id  \\\n",
       "0         85266696  b'\\xb1\\xd4q\\x83\\x89\\xcc\\xb1\\xec\\xd6\\x1a\\xdc\\xb...   \n",
       "1         85177753  b'\\xffT\\x8d\\xddQ\\x9a,N^\\x9d\\xf3\\x81\\xb8\\x8d2\\x...   \n",
       "2         84833908  b'\\x99\\xf8\\xc3\\xa2\\xc8\\x85vl\\x06\\x9e\\x855\\xee<...   \n",
       "3         84592677  b'\\\\#hC\\xc2\\x9b\"\\x16\\xc4\\x8e\\x10\\x9b\\x8a\\xab\\x...   \n",
       "4         84592677  b'\\xd0\\x83[\\xabC\\xda\\xef\\x1e\\xd3\\xd8\\xa8\\xa3\\x...   \n",
       "\n",
       "                                               title  \\\n",
       "0  Tapis tissé à la main move 4453 grau rouge - 1...   \n",
       "1  Fodera per cuscino Naturals Mermaids (50 x 50 cm)   \n",
       "2           Cojín Liso Gris oscuro (40 x 16 x 40 cm)   \n",
       "3  PONTE RIALZATA 13 RUBINETTO LAVABO IN OTTONE N...   \n",
       "4  ROBINET DE LAVABO SURÉLEVÉ SUR PLAGE 13 EN LAI...   \n",
       "\n",
       "                                         description lang  attribute_code  \\\n",
       "0  Facile d'entretien tapis de coton    Ce coton ...   FR            2419   \n",
       "1  Se ti piace curare ogni singolo dettaglio dell...   IT             562   \n",
       "2  <p>Si quieres darle a tu hogar un aire de orig...   ES            2419   \n",
       "3  Questo rubinetto lavabo rialzato dal design el...   IT            1746   \n",
       "4  Ce robinet de lavabo surélevé au design épuré ...   FR            1746   \n",
       "\n",
       "  attribute_label attribute_type  is_multivalued  is_lov attribute_value  \\\n",
       "0           Style           CHAR               0       1     ['Moderne']   \n",
       "1           Forma           CHAR               0       1    ['Quadrato']   \n",
       "2          Estilo           CHAR               0       1      ['Diseño']   \n",
       "3          Colore           CHAR               1       1  ['Nero opaco']   \n",
       "4         Couleur           CHAR               1       1    ['Noir mat']   \n",
       "\n",
       "   lov_code  step_model_code  \\\n",
       "0     64985           200853   \n",
       "1       900           202343   \n",
       "2       533           202345   \n",
       "3     10106           201177   \n",
       "4     10106           201177   \n",
       "\n",
       "                                   mirakl_model_code data_source  \\\n",
       "0  200853|TAPIS_DE_SALON_CHAMBRE_SALLE_A_MANGER|T...        BOMP   \n",
       "1  202343|HOUSSE_DE_COUSSIN|COUSSIN_ET_HOUSSE|R12...        BOMP   \n",
       "2  202345|COUSSIN_DECORATIF|COUSSIN_ET_HOUSSE|R12...        BOMP   \n",
       "3  201177|MITIGEUR_DE_LAVABO|ROBINET_POUR_LAVABO_...        BOMP   \n",
       "4  201177|MITIGEUR_DE_LAVABO|ROBINET_POUR_LAVABO_...        BOMP   \n",
       "\n",
       "                                   description_clean  \n",
       "0  Facile d'entretien tapis de coton    Ce coton ...  \n",
       "1  Se ti piace curare ogni singolo dettaglio dell...  \n",
       "2  Si quieres darle a tu hogar un aire de origina...  \n",
       "3  Questo rubinetto lavabo rialzato dal design el...  \n",
       "4  Ce robinet de lavabo surélevé au design épuré ...  "
      ]
     },
     "execution_count": 9,
     "metadata": {},
     "output_type": "execute_result"
    }
   ],
   "source": [
    "df.head()"
   ]
  },
  {
   "cell_type": "code",
   "execution_count": 14,
   "metadata": {},
   "outputs": [],
   "source": [
    "df['attribute_eng'] = 'None'\n",
    "\n",
    "df['attribute_eng'].loc[df['attribute_code'] == 2419] = 'style'\n",
    "df['attribute_eng'].loc[df['attribute_code'] == 1746] = 'color'\n",
    "df['attribute_eng'].loc[df['attribute_code'] == 562] = 'shape'\n",
    "df['attribute_eng'].loc[df['attribute_code'] == 15344] = 'battery_included'"
   ]
  },
  {
   "cell_type": "code",
   "execution_count": 15,
   "metadata": {},
   "outputs": [
    {
     "data": {
      "text/plain": [
       "Text(0.5, 1.0, 'Histogram of each attribute')"
      ]
     },
     "execution_count": 15,
     "metadata": {},
     "output_type": "execute_result"
    },
    {
     "data": {
      "image/png": "[encoded data removed]",
      "text/plain": [
       "<Figure size 640x480 with 1 Axes>"
      ]
     },
     "metadata": {},
     "output_type": "display_data"
    }
   ],
   "source": [
    "sns.histplot(data=df['attribute_eng'])\n",
    "\n",
    "plt.title('Histogram of each attribute')"
   ]
  },
  {
   "cell_type": "markdown",
   "metadata": {},
   "source": [
    "# Number of classes for each attribute"
   ]
  },
  {
   "cell_type": "code",
   "execution_count": 42,
   "metadata": {},
   "outputs": [
    {
     "name": "stdout",
     "output_type": "stream",
     "text": [
      "style\n",
      "48\n",
      "shape\n",
      "54\n",
      "color\n",
      "77\n",
      "battery_included\n",
      "2\n"
     ]
    },
    {
     "data": {
      "text/plain": [
       "Text(0.5, 1.0, 'Number of class in each attribute')"
      ]
     },
     "execution_count": 42,
     "metadata": {},
     "output_type": "execute_result"
    },
    {
     "data": {
      "image/png": "[encoded data removed]",
      "text/plain": [
       "<Figure size 640x480 with 1 Axes>"
      ]
     },
     "metadata": {},
     "output_type": "display_data"
    }
   ],
   "source": [
    "attribute_list = []\n",
    "attribute_count = []\n",
    "for attribute, attribute_eng in zip(df['attribute_code'].unique(), df['attribute_eng'].unique()):\n",
    "    print (attribute_eng)\n",
    "    print (len(df.loc[df['attribute_code']== int(attribute)].groupby('lov_code').count()))\n",
    "    attribute_list.append(attribute_eng)\n",
    "    attribute_count.append(len(df.loc[df['attribute_code']== int(attribute)].groupby('lov_code').count()))\n",
    "\n",
    "sns.barplot(x=attribute_list, y=attribute_count)\n",
    "plt.title('Number of class in each attribute')\n"
   ]
  },
  {
   "cell_type": "code",
   "execution_count": 43,
   "metadata": {},
   "outputs": [
    {
     "data": {
      "text/html": [
       "<div>\n",
       "<style scoped>\n",
       "    .dataframe tbody tr th:only-of-type {\n",
       "        vertical-align: middle;\n",
       "    }\n",
       "\n",
       "    .dataframe tbody tr th {\n",
       "        vertical-align: top;\n",
       "    }\n",
       "\n",
       "    .dataframe thead th {\n",
       "        text-align: right;\n",
       "    }\n",
       "</style>\n",
       "<table border=\"1\" class=\"dataframe\">\n",
       "  <thead>\n",
       "    <tr style=\"text-align: right;\">\n",
       "      <th></th>\n",
       "      <th>adeo_product_id</th>\n",
       "      <th>id</th>\n",
       "      <th>title</th>\n",
       "      <th>description</th>\n",
       "      <th>lang</th>\n",
       "      <th>attribute_code</th>\n",
       "      <th>attribute_label</th>\n",
       "      <th>attribute_type</th>\n",
       "      <th>is_multivalued</th>\n",
       "      <th>is_lov</th>\n",
       "      <th>attribute_value</th>\n",
       "      <th>lov_code</th>\n",
       "      <th>step_model_code</th>\n",
       "      <th>mirakl_model_code</th>\n",
       "      <th>data_source</th>\n",
       "      <th>description_clean</th>\n",
       "      <th>attribute_eng</th>\n",
       "    </tr>\n",
       "  </thead>\n",
       "  <tbody>\n",
       "    <tr>\n",
       "      <th>0</th>\n",
       "      <td>85266696</td>\n",
       "      <td>b'\\xb1\\xd4q\\x83\\x89\\xcc\\xb1\\xec\\xd6\\x1a\\xdc\\xb...</td>\n",
       "      <td>Tapis tissé à la main move 4453 grau rouge - 1...</td>\n",
       "      <td>Facile d'entretien tapis de coton    Ce coton ...</td>\n",
       "      <td>FR</td>\n",
       "      <td>2419</td>\n",
       "      <td>Style</td>\n",
       "      <td>CHAR</td>\n",
       "      <td>0</td>\n",
       "      <td>1</td>\n",
       "      <td>['Moderne']</td>\n",
       "      <td>64985</td>\n",
       "      <td>200853</td>\n",
       "      <td>200853|TAPIS_DE_SALON_CHAMBRE_SALLE_A_MANGER|T...</td>\n",
       "      <td>BOMP</td>\n",
       "      <td>Facile d'entretien tapis de coton    Ce coton ...</td>\n",
       "      <td>style</td>\n",
       "    </tr>\n",
       "    <tr>\n",
       "      <th>1</th>\n",
       "      <td>85177753</td>\n",
       "      <td>b'\\xffT\\x8d\\xddQ\\x9a,N^\\x9d\\xf3\\x81\\xb8\\x8d2\\x...</td>\n",
       "      <td>Fodera per cuscino Naturals Mermaids (50 x 50 cm)</td>\n",
       "      <td>Se ti piace curare ogni singolo dettaglio dell...</td>\n",
       "      <td>IT</td>\n",
       "      <td>562</td>\n",
       "      <td>Forma</td>\n",
       "      <td>CHAR</td>\n",
       "      <td>0</td>\n",
       "      <td>1</td>\n",
       "      <td>['Quadrato']</td>\n",
       "      <td>900</td>\n",
       "      <td>202343</td>\n",
       "      <td>202343|HOUSSE_DE_COUSSIN|COUSSIN_ET_HOUSSE|R12...</td>\n",
       "      <td>BOMP</td>\n",
       "      <td>Se ti piace curare ogni singolo dettaglio dell...</td>\n",
       "      <td>shape</td>\n",
       "    </tr>\n",
       "    <tr>\n",
       "      <th>2</th>\n",
       "      <td>84833908</td>\n",
       "      <td>b'\\x99\\xf8\\xc3\\xa2\\xc8\\x85vl\\x06\\x9e\\x855\\xee&lt;...</td>\n",
       "      <td>Cojín Liso Gris oscuro (40 x 16 x 40 cm)</td>\n",
       "      <td>&lt;p&gt;Si quieres darle a tu hogar un aire de orig...</td>\n",
       "      <td>ES</td>\n",
       "      <td>2419</td>\n",
       "      <td>Estilo</td>\n",
       "      <td>CHAR</td>\n",
       "      <td>0</td>\n",
       "      <td>1</td>\n",
       "      <td>['Diseño']</td>\n",
       "      <td>533</td>\n",
       "      <td>202345</td>\n",
       "      <td>202345|COUSSIN_DECORATIF|COUSSIN_ET_HOUSSE|R12...</td>\n",
       "      <td>BOMP</td>\n",
       "      <td>Si quieres darle a tu hogar un aire de origina...</td>\n",
       "      <td>style</td>\n",
       "    </tr>\n",
       "    <tr>\n",
       "      <th>3</th>\n",
       "      <td>84592677</td>\n",
       "      <td>b'\\\\#hC\\xc2\\x9b\"\\x16\\xc4\\x8e\\x10\\x9b\\x8a\\xab\\x...</td>\n",
       "      <td>PONTE RIALZATA 13 RUBINETTO LAVABO IN OTTONE N...</td>\n",
       "      <td>Questo rubinetto lavabo rialzato dal design el...</td>\n",
       "      <td>IT</td>\n",
       "      <td>1746</td>\n",
       "      <td>Colore</td>\n",
       "      <td>CHAR</td>\n",
       "      <td>1</td>\n",
       "      <td>1</td>\n",
       "      <td>['Nero opaco']</td>\n",
       "      <td>10106</td>\n",
       "      <td>201177</td>\n",
       "      <td>201177|MITIGEUR_DE_LAVABO|ROBINET_POUR_LAVABO_...</td>\n",
       "      <td>BOMP</td>\n",
       "      <td>Questo rubinetto lavabo rialzato dal design el...</td>\n",
       "      <td>color</td>\n",
       "    </tr>\n",
       "    <tr>\n",
       "      <th>4</th>\n",
       "      <td>84592677</td>\n",
       "      <td>b'\\xd0\\x83[\\xabC\\xda\\xef\\x1e\\xd3\\xd8\\xa8\\xa3\\x...</td>\n",
       "      <td>ROBINET DE LAVABO SURÉLEVÉ SUR PLAGE 13 EN LAI...</td>\n",
       "      <td>Ce robinet de lavabo surélevé au design épuré ...</td>\n",
       "      <td>FR</td>\n",
       "      <td>1746</td>\n",
       "      <td>Couleur</td>\n",
       "      <td>CHAR</td>\n",
       "      <td>1</td>\n",
       "      <td>1</td>\n",
       "      <td>['Noir mat']</td>\n",
       "      <td>10106</td>\n",
       "      <td>201177</td>\n",
       "      <td>201177|MITIGEUR_DE_LAVABO|ROBINET_POUR_LAVABO_...</td>\n",
       "      <td>BOMP</td>\n",
       "      <td>Ce robinet de lavabo surélevé au design épuré ...</td>\n",
       "      <td>color</td>\n",
       "    </tr>\n",
       "  </tbody>\n",
       "</table>\n",
       "</div>"
      ],
      "text/plain": [
       "   adeo_product_id                                                 id  \\\n",
       "0         85266696  b'\\xb1\\xd4q\\x83\\x89\\xcc\\xb1\\xec\\xd6\\x1a\\xdc\\xb...   \n",
       "1         85177753  b'\\xffT\\x8d\\xddQ\\x9a,N^\\x9d\\xf3\\x81\\xb8\\x8d2\\x...   \n",
       "2         84833908  b'\\x99\\xf8\\xc3\\xa2\\xc8\\x85vl\\x06\\x9e\\x855\\xee<...   \n",
       "3         84592677  b'\\\\#hC\\xc2\\x9b\"\\x16\\xc4\\x8e\\x10\\x9b\\x8a\\xab\\x...   \n",
       "4         84592677  b'\\xd0\\x83[\\xabC\\xda\\xef\\x1e\\xd3\\xd8\\xa8\\xa3\\x...   \n",
       "\n",
       "                                               title  \\\n",
       "0  Tapis tissé à la main move 4453 grau rouge - 1...   \n",
       "1  Fodera per cuscino Naturals Mermaids (50 x 50 cm)   \n",
       "2           Cojín Liso Gris oscuro (40 x 16 x 40 cm)   \n",
       "3  PONTE RIALZATA 13 RUBINETTO LAVABO IN OTTONE N...   \n",
       "4  ROBINET DE LAVABO SURÉLEVÉ SUR PLAGE 13 EN LAI...   \n",
       "\n",
       "                                         description lang  attribute_code  \\\n",
       "0  Facile d'entretien tapis de coton    Ce coton ...   FR            2419   \n",
       "1  Se ti piace curare ogni singolo dettaglio dell...   IT             562   \n",
       "2  <p>Si quieres darle a tu hogar un aire de orig...   ES            2419   \n",
       "3  Questo rubinetto lavabo rialzato dal design el...   IT            1746   \n",
       "4  Ce robinet de lavabo surélevé au design épuré ...   FR            1746   \n",
       "\n",
       "  attribute_label attribute_type  is_multivalued  is_lov attribute_value  \\\n",
       "0           Style           CHAR               0       1     ['Moderne']   \n",
       "1           Forma           CHAR               0       1    ['Quadrato']   \n",
       "2          Estilo           CHAR               0       1      ['Diseño']   \n",
       "3          Colore           CHAR               1       1  ['Nero opaco']   \n",
       "4         Couleur           CHAR               1       1    ['Noir mat']   \n",
       "\n",
       "   lov_code  step_model_code  \\\n",
       "0     64985           200853   \n",
       "1       900           202343   \n",
       "2       533           202345   \n",
       "3     10106           201177   \n",
       "4     10106           201177   \n",
       "\n",
       "                                   mirakl_model_code data_source  \\\n",
       "0  200853|TAPIS_DE_SALON_CHAMBRE_SALLE_A_MANGER|T...        BOMP   \n",
       "1  202343|HOUSSE_DE_COUSSIN|COUSSIN_ET_HOUSSE|R12...        BOMP   \n",
       "2  202345|COUSSIN_DECORATIF|COUSSIN_ET_HOUSSE|R12...        BOMP   \n",
       "3  201177|MITIGEUR_DE_LAVABO|ROBINET_POUR_LAVABO_...        BOMP   \n",
       "4  201177|MITIGEUR_DE_LAVABO|ROBINET_POUR_LAVABO_...        BOMP   \n",
       "\n",
       "                                   description_clean attribute_eng  \n",
       "0  Facile d'entretien tapis de coton    Ce coton ...         style  \n",
       "1  Se ti piace curare ogni singolo dettaglio dell...         shape  \n",
       "2  Si quieres darle a tu hogar un aire de origina...         style  \n",
       "3  Questo rubinetto lavabo rialzato dal design el...         color  \n",
       "4  Ce robinet de lavabo surélevé au design épuré ...         color  "
      ]
     },
     "execution_count": 43,
     "metadata": {},
     "output_type": "execute_result"
    }
   ],
   "source": [
    "df.head()"
   ]
  }
 ],
 "metadata": {
  "environment": {
   "kernel": "python3",
   "name": "common-cu110.m100",
   "type": "gcloud",
   "uri": "gcr.io/deeplearning-platform-release/base-cu110:m100"
  },
  "kernelspec": {
   "display_name": "Python 3.10.8 ('product_classification')",
   "language": "python",
   "name": "python3"
  },
  "language_info": {
   "codemirror_mode": {
    "name": "ipython",
    "version": 3
   },
   "file_extension": ".py",
   "mimetype": "text/x-python",
   "name": "python",
   "nbconvert_exporter": "python",
   "pygments_lexer": "ipython3",
   "version": "3.10.8"
  },
  "vscode": {
   "interpreter": {
    "hash": "10530e19dcdfe73a7151595320d247214b692837f071583cab392004ec8982fa"
   }
  }
 },
 "nbformat": 4,
 "nbformat_minor": 4
}
