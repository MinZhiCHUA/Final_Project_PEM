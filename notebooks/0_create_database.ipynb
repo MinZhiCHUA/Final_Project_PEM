{
 "cells": [
  {
   "cell_type": "markdown",
   "metadata": {},
   "source": [
    "# Create database"
   ]
  },
  {
   "cell_type": "code",
   "execution_count": null,
   "metadata": {},
   "outputs": [],
   "source": [
    "from google.cloud import bigquery\n",
    "\n",
    "client = bigquery.Client(project=\"artefact-taxonomy\")"
   ]
  },
  {
   "cell_type": "code",
   "execution_count": null,
   "metadata": {},
   "outputs": [],
   "source": [
    "sql = \"\"\"\n",
    "WITH\n",
    " count_sample AS (\n",
    " SELECT\n",
    "   mirakl_model_code,\n",
    "   COUNT(*) AS nb_sample\n",
    " FROM\n",
    "   `artefact-taxonomy.pdp_product_entity_matching.master_attribute_extraction_training_data`\n",
    " WHERE\n",
    "   attribute_code IN ( \"02419\",\n",
    "     \"15344\",\n",
    "     \"01746\",\n",
    "     \"00562\")\n",
    " GROUP BY\n",
    "   mirakl_model_code\n",
    " HAVING\n",
    "   COUNT(*)>500\n",
    " LIMIT\n",
    "   100 )\n",
    "SELECT\n",
    " training_data.id,\n",
    " training_data.adeo_product_id,\n",
    " training_data.title,\n",
    " training_data.description,\n",
    " training_data.lang,\n",
    " training_data.attribute_code,\n",
    " training_data.attribute_label,\n",
    " training_data.attribute_type,\n",
    " training_data.is_multivalued,\n",
    " training_data.is_lov,\n",
    " training_data.attribute_value,\n",
    " training_data.lov_code,\n",
    " training_data.step_model_code,\n",
    " training_data.mirakl_model_code,\n",
    " training_data.data_source\n",
    "FROM\n",
    " `artefact-taxonomy.pdp_product_entity_matching.master_attribute_extraction_training_data` AS training_data\n",
    "INNER JOIN\n",
    " count_sample cs\n",
    "ON\n",
    " cs.mirakl_model_code=training_data.mirakl_model_code\n",
    "WHERE\n",
    " attribute_code IN ( \"02419\",\n",
    "   \"15344\",\n",
    "   \"01746\",\n",
    "   \"00562\")\n",
    "\"\"\"\n",
    "\n",
    "df = client.query(sql).to_dataframe()"
   ]
  },
  {
   "cell_type": "markdown",
   "metadata": {},
   "source": [
    "# Save query results"
   ]
  },
  {
   "cell_type": "code",
   "execution_count": null,
   "metadata": {},
   "outputs": [],
   "source": [
    "table_id = \"artefact-taxonomy.pem_uc_add_datasets.temp_simplon_2\"\n",
    "job_config = bigquery.QueryJobConfig(destination=table_id)"
   ]
  },
  {
   "cell_type": "code",
   "execution_count": null,
   "metadata": {},
   "outputs": [],
   "source": [
    "# Start the query, passing in the extra configuration.\n",
    "query_job = client.query(sql, job_config=job_config)  # Make an API request.\n",
    "query_job.result()  # Wait for the job to complete.\n",
    "\n",
    "print(\"Query results loaded to the table {}\".format(table_id))"
   ]
  }
 ],
 "metadata": {
  "kernelspec": {
   "display_name": "Python 3.8.10 64-bit",
   "language": "python",
   "name": "python3"
  },
  "language_info": {
   "name": "python",
   "version": "3.8.10"
  },
  "orig_nbformat": 4,
  "vscode": {
   "interpreter": {
    "hash": "916dbcbb3f70747c44a77c7bcd40155683ae19c65e1c03b4aa3499c5328201f1"
   }
  }
 },
 "nbformat": 4,
 "nbformat_minor": 2
}
