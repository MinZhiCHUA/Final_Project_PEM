{
 "cells": [
  {
   "attachments": {},
   "cell_type": "markdown",
   "metadata": {},
   "source": [
    "# Import package"
   ]
  },
  {
   "cell_type": "code",
   "execution_count": 1,
   "metadata": {},
   "outputs": [
    {
     "name": "stderr",
     "output_type": "stream",
     "text": [
      "[nltk_data] Downloading package punkt to /home/20014946/nltk_data...\n",
      "[nltk_data]   Package punkt is already up-to-date!\n"
     ]
    }
   ],
   "source": [
    "from pathlib import Path\n",
    "\n",
    "import pandas as pd\n",
    "import torch\n",
    "from transformers import AutoTokenizer\n",
    "\n",
    "from attribute_extraction.models.attribute_classification import MultiAttributeClassifier\n",
    "from attribute_extraction.models.inference_utils import predict_attribute_dataset\n",
    "from attribute_extraction.models.mapper import Mapper"
   ]
  },
  {
   "attachments": {},
   "cell_type": "markdown",
   "metadata": {},
   "source": [
    "# Setting up variables"
   ]
  },
  {
   "cell_type": "code",
   "execution_count": 14,
   "metadata": {},
   "outputs": [],
   "source": [
    "attribute_code_col = \"attribute_code\"\n",
    "attribute_lov_col = \"lov_code\"\n",
    "context_col = \"context\"\n",
    "\n",
    "pred_label_col = \"predicted_labels\"\n",
    "pred_score_col = \"predicted_scores\"\n",
    "\n",
    "model_path = f\"{training_path}model.ckpt\"\n",
    "mapper_path = f\"{training_path}mapper.json\"\n",
    "\n",
    "training_path = \"../outputs_train_workflow/\"\n",
    "test_set_uri = \"../data/test_formatted.csv\"\n",
    "prediction_attribute_classification_uri = \"../outputs_predict_workflow/\"\n",
    "\n",
    "model_name = \"distilbert-base-multilingual-cased\"\n",
    "lov_attribute_codes = [\"02419\", \"01746\", \"00562\", \"15344\", \"99999\"]\n",
    "batch_size = 128 \n",
    "projection_dim = 256\n"
   ]
  },
  {
   "attachments": {},
   "cell_type": "markdown",
   "metadata": {},
   "source": [
    "# Read data and pre-processing"
   ]
  },
  {
   "cell_type": "code",
   "execution_count": 8,
   "metadata": {},
   "outputs": [],
   "source": [
    "\n",
    "data_test = pd.read_csv(test_set_uri).reset_index(drop=True)\n",
    "\n",
    "data_test['attribute_code'] = data_test['attribute_code'].apply(lambda x: str(x).zfill(5))\n",
    "data_test['lov_code'] = data_test['lov_code'].apply(lambda x: str(x).zfill(5))\n",
    "\n",
    "data_test = data_test.fillna('')\n",
    "\n",
    "data_test[context_col] = data_test.title + \" \" + data_test.description_clean"
   ]
  },
  {
   "attachments": {},
   "cell_type": "markdown",
   "metadata": {},
   "source": [
    "# Model Initialisation"
   ]
  },
  {
   "cell_type": "code",
   "execution_count": 15,
   "metadata": {},
   "outputs": [
    {
     "ename": "FileNotFoundError",
     "evalue": "[Errno 2] No such file or directory: '../outputs_train_workflow/model.ckpt'",
     "output_type": "error",
     "traceback": [
      "\u001b[0;31m---------------------------------------------------------------------------\u001b[0m",
      "\u001b[0;31mFileNotFoundError\u001b[0m                         Traceback (most recent call last)",
      "\u001b[1;32m/home/20014946/Documents/Final_Project_PEM/Final_Project_PEM/notebooks/5_predict_classification.ipynb Cell 8\u001b[0m in \u001b[0;36m1\n\u001b[1;32m      <a href='vscode-notebook-cell:/home/20014946/Documents/Final_Project_PEM/Final_Project_PEM/notebooks/5_predict_classification.ipynb#X15sZmlsZQ%3D%3D?line=1'>2</a>\u001b[0m tokenizer \u001b[39m=\u001b[39m AutoTokenizer\u001b[39m.\u001b[39mfrom_pretrained(model_name)\n\u001b[1;32m      <a href='vscode-notebook-cell:/home/20014946/Documents/Final_Project_PEM/Final_Project_PEM/notebooks/5_predict_classification.ipynb#X15sZmlsZQ%3D%3D?line=3'>4</a>\u001b[0m model \u001b[39m=\u001b[39m MultiAttributeClassifier(\n\u001b[1;32m      <a href='vscode-notebook-cell:/home/20014946/Documents/Final_Project_PEM/Final_Project_PEM/notebooks/5_predict_classification.ipynb#X15sZmlsZQ%3D%3D?line=4'>5</a>\u001b[0m     vocab_size\u001b[39m=\u001b[39mtokenizer\u001b[39m.\u001b[39mvocab_size,\n\u001b[1;32m      <a href='vscode-notebook-cell:/home/20014946/Documents/Final_Project_PEM/Final_Project_PEM/notebooks/5_predict_classification.ipynb#X15sZmlsZQ%3D%3D?line=5'>6</a>\u001b[0m     class_config\u001b[39m=\u001b[39mmapper\u001b[39m.\u001b[39mmappings,\n\u001b[1;32m      <a href='vscode-notebook-cell:/home/20014946/Documents/Final_Project_PEM/Final_Project_PEM/notebooks/5_predict_classification.ipynb#X15sZmlsZQ%3D%3D?line=6'>7</a>\u001b[0m     projection_dim\u001b[39m=\u001b[39mprojection_dim,\n\u001b[1;32m      <a href='vscode-notebook-cell:/home/20014946/Documents/Final_Project_PEM/Final_Project_PEM/notebooks/5_predict_classification.ipynb#X15sZmlsZQ%3D%3D?line=7'>8</a>\u001b[0m )\n\u001b[1;32m     <a href='vscode-notebook-cell:/home/20014946/Documents/Final_Project_PEM/Final_Project_PEM/notebooks/5_predict_classification.ipynb#X15sZmlsZQ%3D%3D?line=9'>10</a>\u001b[0m model\u001b[39m.\u001b[39mload_state_dict(\n\u001b[0;32m---> <a href='vscode-notebook-cell:/home/20014946/Documents/Final_Project_PEM/Final_Project_PEM/notebooks/5_predict_classification.ipynb#X15sZmlsZQ%3D%3D?line=10'>11</a>\u001b[0m     torch\u001b[39m.\u001b[39;49mload(\n\u001b[1;32m     <a href='vscode-notebook-cell:/home/20014946/Documents/Final_Project_PEM/Final_Project_PEM/notebooks/5_predict_classification.ipynb#X15sZmlsZQ%3D%3D?line=11'>12</a>\u001b[0m         model_path,\n\u001b[1;32m     <a href='vscode-notebook-cell:/home/20014946/Documents/Final_Project_PEM/Final_Project_PEM/notebooks/5_predict_classification.ipynb#X15sZmlsZQ%3D%3D?line=12'>13</a>\u001b[0m         map_location\u001b[39m=\u001b[39;49mtorch\u001b[39m.\u001b[39;49mdevice(\u001b[39m\"\u001b[39;49m\u001b[39mcuda\u001b[39;49m\u001b[39m\"\u001b[39;49m \u001b[39mif\u001b[39;49;00m torch\u001b[39m.\u001b[39;49mcuda\u001b[39m.\u001b[39;49mis_available() \u001b[39melse\u001b[39;49;00m \u001b[39m\"\u001b[39;49m\u001b[39mcpu\u001b[39;49m\u001b[39m\"\u001b[39;49m),\n\u001b[1;32m     <a href='vscode-notebook-cell:/home/20014946/Documents/Final_Project_PEM/Final_Project_PEM/notebooks/5_predict_classification.ipynb#X15sZmlsZQ%3D%3D?line=13'>14</a>\u001b[0m     )[\u001b[39m\"\u001b[39m\u001b[39mstate_dict\u001b[39m\u001b[39m\"\u001b[39m]\n\u001b[1;32m     <a href='vscode-notebook-cell:/home/20014946/Documents/Final_Project_PEM/Final_Project_PEM/notebooks/5_predict_classification.ipynb#X15sZmlsZQ%3D%3D?line=14'>15</a>\u001b[0m )\n",
      "File \u001b[0;32m~/anaconda3/envs/pem-entities/lib/python3.9/site-packages/torch/serialization.py:581\u001b[0m, in \u001b[0;36mload\u001b[0;34m(f, map_location, pickle_module, **pickle_load_args)\u001b[0m\n\u001b[1;32m    578\u001b[0m \u001b[39mif\u001b[39;00m \u001b[39m'\u001b[39m\u001b[39mencoding\u001b[39m\u001b[39m'\u001b[39m \u001b[39mnot\u001b[39;00m \u001b[39min\u001b[39;00m pickle_load_args\u001b[39m.\u001b[39mkeys():\n\u001b[1;32m    579\u001b[0m     pickle_load_args[\u001b[39m'\u001b[39m\u001b[39mencoding\u001b[39m\u001b[39m'\u001b[39m] \u001b[39m=\u001b[39m \u001b[39m'\u001b[39m\u001b[39mutf-8\u001b[39m\u001b[39m'\u001b[39m\n\u001b[0;32m--> 581\u001b[0m \u001b[39mwith\u001b[39;00m _open_file_like(f, \u001b[39m'\u001b[39;49m\u001b[39mrb\u001b[39;49m\u001b[39m'\u001b[39;49m) \u001b[39mas\u001b[39;00m opened_file:\n\u001b[1;32m    582\u001b[0m     \u001b[39mif\u001b[39;00m _is_zipfile(opened_file):\n\u001b[1;32m    583\u001b[0m         \u001b[39m# The zipfile reader is going to advance the current file position.\u001b[39;00m\n\u001b[1;32m    584\u001b[0m         \u001b[39m# If we want to actually tail call to torch.jit.load, we need to\u001b[39;00m\n\u001b[1;32m    585\u001b[0m         \u001b[39m# reset back to the original position.\u001b[39;00m\n\u001b[1;32m    586\u001b[0m         orig_position \u001b[39m=\u001b[39m opened_file\u001b[39m.\u001b[39mtell()\n",
      "File \u001b[0;32m~/anaconda3/envs/pem-entities/lib/python3.9/site-packages/torch/serialization.py:230\u001b[0m, in \u001b[0;36m_open_file_like\u001b[0;34m(name_or_buffer, mode)\u001b[0m\n\u001b[1;32m    228\u001b[0m \u001b[39mdef\u001b[39;00m \u001b[39m_open_file_like\u001b[39m(name_or_buffer, mode):\n\u001b[1;32m    229\u001b[0m     \u001b[39mif\u001b[39;00m _is_path(name_or_buffer):\n\u001b[0;32m--> 230\u001b[0m         \u001b[39mreturn\u001b[39;00m _open_file(name_or_buffer, mode)\n\u001b[1;32m    231\u001b[0m     \u001b[39melse\u001b[39;00m:\n\u001b[1;32m    232\u001b[0m         \u001b[39mif\u001b[39;00m \u001b[39m'\u001b[39m\u001b[39mw\u001b[39m\u001b[39m'\u001b[39m \u001b[39min\u001b[39;00m mode:\n",
      "File \u001b[0;32m~/anaconda3/envs/pem-entities/lib/python3.9/site-packages/torch/serialization.py:211\u001b[0m, in \u001b[0;36m_open_file.__init__\u001b[0;34m(self, name, mode)\u001b[0m\n\u001b[1;32m    210\u001b[0m \u001b[39mdef\u001b[39;00m \u001b[39m__init__\u001b[39m(\u001b[39mself\u001b[39m, name, mode):\n\u001b[0;32m--> 211\u001b[0m     \u001b[39msuper\u001b[39m(_open_file, \u001b[39mself\u001b[39m)\u001b[39m.\u001b[39m\u001b[39m__init__\u001b[39m(\u001b[39mopen\u001b[39;49m(name, mode))\n",
      "\u001b[0;31mFileNotFoundError\u001b[0m: [Errno 2] No such file or directory: '../outputs_train_workflow/model.ckpt'"
     ]
    }
   ],
   "source": [
    "mapper = Mapper.load(mapper_path)\n",
    "tokenizer = AutoTokenizer.from_pretrained(model_name)\n",
    "\n",
    "model = MultiAttributeClassifier(\n",
    "    vocab_size=tokenizer.vocab_size,\n",
    "    class_config=mapper.mappings,\n",
    "    projection_dim=projection_dim,\n",
    ")\n",
    "\n",
    "model.load_state_dict(\n",
    "    torch.load(\n",
    "        model_path,\n",
    "        map_location=torch.device(\"cuda\" if torch.cuda.is_available() else \"cpu\"),\n",
    "    )[\"state_dict\"]\n",
    ")\n"
   ]
  },
  {
   "attachments": {},
   "cell_type": "markdown",
   "metadata": {},
   "source": [
    "# Predictions"
   ]
  },
  {
   "cell_type": "code",
   "execution_count": null,
   "metadata": {},
   "outputs": [],
   "source": [
    "dataset_list = []\n",
    "\n",
    "for attribute_code in lov_attribute_codes:\n",
    "\n",
    "    attribute_data = data_test[data_test[attribute_code_col] == attribute_code].reset_index(\n",
    "        drop=True\n",
    "    )\n",
    "\n",
    "    predictions = predict_attribute_dataset(\n",
    "        model=model,\n",
    "        tokenizer=tokenizer,\n",
    "        dataframe=attribute_data,\n",
    "        context_col_name=context_col,\n",
    "        batch_size=batch_size,\n",
    "        attribute_code_col_name=attribute_code_col,\n",
    "        attribute_code=attribute_code,\n",
    "    )\n",
    "\n",
    "    attribute_data[pred_label_col] = [prediction[0][\"label\"] for prediction in predictions]\n",
    "    attribute_data[pred_score_col] = [prediction[0][\"score\"] for prediction in predictions]\n",
    "\n",
    "    attribute_data[\"is_top1\"] = [\n",
    "        int(label in [x[\"label\"] for x in prediction[:1]])\n",
    "        for label, prediction in zip(attribute_data[attribute_lov_col], predictions)\n",
    "    ]\n",
    "    attribute_data[\"is_top3\"] = [\n",
    "        int(label in [x[\"label\"] for x in prediction[:3]])\n",
    "        for label, prediction in zip(attribute_data[attribute_lov_col], predictions)\n",
    "    ]\n",
    "    attribute_data[\"is_top5\"] = [\n",
    "        int(label in [x[\"label\"] for x in prediction])\n",
    "        for label, prediction in zip(attribute_data[attribute_lov_col], predictions)\n",
    "    ]\n",
    "\n",
    "    dataset_list.append(attribute_data)\n"
   ]
  },
  {
   "attachments": {},
   "cell_type": "markdown",
   "metadata": {},
   "source": [
    "# Saving Predictions"
   ]
  },
  {
   "cell_type": "code",
   "execution_count": null,
   "metadata": {},
   "outputs": [],
   "source": [
    "prediction_data = pd.concat(dataset_list)\n",
    "\n",
    "prediction_data.to_csv(f\"{prediction_attribute_classification_uri}predictions.csv\", index=False)"
   ]
  }
 ],
 "metadata": {
  "kernelspec": {
   "display_name": "pem-entities",
   "language": "python",
   "name": "python3"
  },
  "language_info": {
   "codemirror_mode": {
    "name": "ipython",
    "version": 3
   },
   "file_extension": ".py",
   "mimetype": "text/x-python",
   "name": "python",
   "nbconvert_exporter": "python",
   "pygments_lexer": "ipython3",
   "version": "3.9.16"
  },
  "orig_nbformat": 4
 },
 "nbformat": 4,
 "nbformat_minor": 2
}
