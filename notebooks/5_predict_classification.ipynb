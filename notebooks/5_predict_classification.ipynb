{
 "cells": [
  {
   "cell_type": "code",
   "execution_count": 5,
   "metadata": {},
   "outputs": [],
   "source": [
    "from pathlib import Path\n",
    "\n",
    "base_path = Path(\".\").absolute().parents[0]"
   ]
  },
  {
   "cell_type": "code",
   "execution_count": 6,
   "metadata": {},
   "outputs": [],
   "source": [
    "import sys\n",
    "\n",
    "sys.path.insert(0, str(base_path / \"src\"))"
   ]
  },
  {
   "attachments": {},
   "cell_type": "markdown",
   "metadata": {},
   "source": [
    "# Import package"
   ]
  },
  {
   "cell_type": "code",
   "execution_count": 11,
   "metadata": {},
   "outputs": [],
   "source": [
    "from pathlib import Path\n",
    "\n",
    "import pandas as pd\n",
    "import torch\n",
    "from transformers import AutoTokenizer\n",
    "\n",
    "from attribute_extraction.models.attribute_classification import MultiAttributeClassifier\n",
    "from attribute_extraction.models.inference_utils import predict_attribute_dataset\n",
    "from attribute_extraction.models.mapper import Mapper"
   ]
  },
  {
   "attachments": {},
   "cell_type": "markdown",
   "metadata": {},
   "source": [
    "# Setting up variables"
   ]
  },
  {
   "cell_type": "code",
   "execution_count": 8,
   "metadata": {},
   "outputs": [],
   "source": [
    "attribute_code_col = \"attribute_code\"\n",
    "attribute_lov_col = \"lov_code\"\n",
    "context_col = \"context\"\n",
    "\n",
    "pred_label_col = \"predicted_labels\"\n",
    "pred_score_col = \"predicted_scores\"\n",
    "\n",
    "training_path = \"../outputs_train_workflow/\"\n",
    "test_set_uri = \"../data/test_formatted.csv\"\n",
    "prediction_attribute_classification_uri = \"../outputs_predict_workflow/\"\n",
    "\n",
    "model_path = f\"{training_path}model.ckpt\"\n",
    "mapper_path = f\"{training_path}mapper.json\"\n",
    "\n",
    "model_name = \"distilbert-base-multilingual-cased\"\n",
    "lov_attribute_codes = [\"02419\", \"01746\", \"00562\", \"15344\", \"99999\"]\n",
    "batch_size = 128 \n",
    "projection_dim = 256"
   ]
  },
  {
   "attachments": {},
   "cell_type": "markdown",
   "metadata": {},
   "source": [
    "# Read data and pre-processing"
   ]
  },
  {
   "cell_type": "code",
   "execution_count": 9,
   "metadata": {},
   "outputs": [],
   "source": [
    "\n",
    "data_test = pd.read_csv(test_set_uri).reset_index(drop=True)\n",
    "\n",
    "data_test['attribute_code'] = data_test['attribute_code'].apply(lambda x: str(x).zfill(5))\n",
    "data_test['lov_code'] = data_test['lov_code'].apply(lambda x: str(x).zfill(5))\n",
    "\n",
    "data_test = data_test.fillna('')\n",
    "\n",
    "data_test[context_col] = data_test.title + \" \" + data_test.description_clean"
   ]
  },
  {
   "attachments": {},
   "cell_type": "markdown",
   "metadata": {},
   "source": [
    "# Model Initialisation"
   ]
  },
  {
   "cell_type": "code",
   "execution_count": 12,
   "metadata": {},
   "outputs": [
    {
     "ename": "TypeError",
     "evalue": "__init__() missing 1 required positional argument: 'model_name_or_path'",
     "output_type": "error",
     "traceback": [
      "\u001b[0;31m---------------------------------------------------------------------------\u001b[0m",
      "\u001b[0;31mTypeError\u001b[0m                                 Traceback (most recent call last)",
      "\u001b[1;32m/home/20014946/Documents/Final_Project_PEM/Final_Project_PEM/notebooks/5_predict_classification.ipynb Cell 10\u001b[0m in \u001b[0;36m4\n\u001b[1;32m      <a href='vscode-notebook-cell:/home/20014946/Documents/Final_Project_PEM/Final_Project_PEM/notebooks/5_predict_classification.ipynb#X10sZmlsZQ%3D%3D?line=0'>1</a>\u001b[0m mapper \u001b[39m=\u001b[39m Mapper\u001b[39m.\u001b[39mload(mapper_path)\n\u001b[1;32m      <a href='vscode-notebook-cell:/home/20014946/Documents/Final_Project_PEM/Final_Project_PEM/notebooks/5_predict_classification.ipynb#X10sZmlsZQ%3D%3D?line=1'>2</a>\u001b[0m tokenizer \u001b[39m=\u001b[39m AutoTokenizer\u001b[39m.\u001b[39mfrom_pretrained(model_name)\n\u001b[0;32m----> <a href='vscode-notebook-cell:/home/20014946/Documents/Final_Project_PEM/Final_Project_PEM/notebooks/5_predict_classification.ipynb#X10sZmlsZQ%3D%3D?line=3'>4</a>\u001b[0m model \u001b[39m=\u001b[39m MultiAttributeClassifier(\n\u001b[1;32m      <a href='vscode-notebook-cell:/home/20014946/Documents/Final_Project_PEM/Final_Project_PEM/notebooks/5_predict_classification.ipynb#X10sZmlsZQ%3D%3D?line=4'>5</a>\u001b[0m     vocab_size\u001b[39m=\u001b[39;49mtokenizer\u001b[39m.\u001b[39;49mvocab_size,\n\u001b[1;32m      <a href='vscode-notebook-cell:/home/20014946/Documents/Final_Project_PEM/Final_Project_PEM/notebooks/5_predict_classification.ipynb#X10sZmlsZQ%3D%3D?line=5'>6</a>\u001b[0m     class_config\u001b[39m=\u001b[39;49mmapper\u001b[39m.\u001b[39;49mmappings,\n\u001b[1;32m      <a href='vscode-notebook-cell:/home/20014946/Documents/Final_Project_PEM/Final_Project_PEM/notebooks/5_predict_classification.ipynb#X10sZmlsZQ%3D%3D?line=6'>7</a>\u001b[0m     projection_dim\u001b[39m=\u001b[39;49mprojection_dim,\n\u001b[1;32m      <a href='vscode-notebook-cell:/home/20014946/Documents/Final_Project_PEM/Final_Project_PEM/notebooks/5_predict_classification.ipynb#X10sZmlsZQ%3D%3D?line=7'>8</a>\u001b[0m )\n\u001b[1;32m     <a href='vscode-notebook-cell:/home/20014946/Documents/Final_Project_PEM/Final_Project_PEM/notebooks/5_predict_classification.ipynb#X10sZmlsZQ%3D%3D?line=9'>10</a>\u001b[0m model\u001b[39m.\u001b[39mload_state_dict(\n\u001b[1;32m     <a href='vscode-notebook-cell:/home/20014946/Documents/Final_Project_PEM/Final_Project_PEM/notebooks/5_predict_classification.ipynb#X10sZmlsZQ%3D%3D?line=10'>11</a>\u001b[0m     torch\u001b[39m.\u001b[39mload(\n\u001b[1;32m     <a href='vscode-notebook-cell:/home/20014946/Documents/Final_Project_PEM/Final_Project_PEM/notebooks/5_predict_classification.ipynb#X10sZmlsZQ%3D%3D?line=11'>12</a>\u001b[0m         model_path,\n\u001b[1;32m     <a href='vscode-notebook-cell:/home/20014946/Documents/Final_Project_PEM/Final_Project_PEM/notebooks/5_predict_classification.ipynb#X10sZmlsZQ%3D%3D?line=12'>13</a>\u001b[0m         map_location\u001b[39m=\u001b[39mtorch\u001b[39m.\u001b[39mdevice(\u001b[39m\"\u001b[39m\u001b[39mcuda\u001b[39m\u001b[39m\"\u001b[39m \u001b[39mif\u001b[39;00m torch\u001b[39m.\u001b[39mcuda\u001b[39m.\u001b[39mis_available() \u001b[39melse\u001b[39;00m \u001b[39m\"\u001b[39m\u001b[39mcpu\u001b[39m\u001b[39m\"\u001b[39m),\n\u001b[1;32m     <a href='vscode-notebook-cell:/home/20014946/Documents/Final_Project_PEM/Final_Project_PEM/notebooks/5_predict_classification.ipynb#X10sZmlsZQ%3D%3D?line=13'>14</a>\u001b[0m     )[\u001b[39m\"\u001b[39m\u001b[39mstate_dict\u001b[39m\u001b[39m\"\u001b[39m]\n\u001b[1;32m     <a href='vscode-notebook-cell:/home/20014946/Documents/Final_Project_PEM/Final_Project_PEM/notebooks/5_predict_classification.ipynb#X10sZmlsZQ%3D%3D?line=14'>15</a>\u001b[0m )\n",
      "\u001b[0;31mTypeError\u001b[0m: __init__() missing 1 required positional argument: 'model_name_or_path'"
     ]
    }
   ],
   "source": [
    "mapper = Mapper.load(mapper_path)\n",
    "tokenizer = AutoTokenizer.from_pretrained(model_name)\n",
    "\n",
    "model = MultiAttributeClassifier(\n",
    "    vocab_size=tokenizer.vocab_size,\n",
    "    class_config=mapper.mappings,\n",
    "    projection_dim=projection_dim,\n",
    ")\n",
    "\n",
    "model.load_state_dict(\n",
    "    torch.load(\n",
    "        model_path,\n",
    "        map_location=torch.device(\"cuda\" if torch.cuda.is_available() else \"cpu\"),\n",
    "    )[\"state_dict\"]\n",
    ")\n"
   ]
  },
  {
   "attachments": {},
   "cell_type": "markdown",
   "metadata": {},
   "source": [
    "# Predictions"
   ]
  },
  {
   "cell_type": "code",
   "execution_count": null,
   "metadata": {},
   "outputs": [],
   "source": [
    "dataset_list = []\n",
    "\n",
    "for attribute_code in lov_attribute_codes:\n",
    "\n",
    "    attribute_data = data_test[data_test[attribute_code_col] == attribute_code].reset_index(\n",
    "        drop=True\n",
    "    )\n",
    "\n",
    "    predictions = predict_attribute_dataset(\n",
    "        model=model,\n",
    "        tokenizer=tokenizer,\n",
    "        dataframe=attribute_data,\n",
    "        context_col_name=context_col,\n",
    "        batch_size=batch_size,\n",
    "        attribute_code_col_name=attribute_code_col,\n",
    "        attribute_code=attribute_code,\n",
    "    )\n",
    "\n",
    "    attribute_data[pred_label_col] = [prediction[0][\"label\"] for prediction in predictions]\n",
    "    attribute_data[pred_score_col] = [prediction[0][\"score\"] for prediction in predictions]\n",
    "\n",
    "    attribute_data[\"is_top1\"] = [\n",
    "        int(label in [x[\"label\"] for x in prediction[:1]])\n",
    "        for label, prediction in zip(attribute_data[attribute_lov_col], predictions)\n",
    "    ]\n",
    "    attribute_data[\"is_top3\"] = [\n",
    "        int(label in [x[\"label\"] for x in prediction[:3]])\n",
    "        for label, prediction in zip(attribute_data[attribute_lov_col], predictions)\n",
    "    ]\n",
    "    attribute_data[\"is_top5\"] = [\n",
    "        int(label in [x[\"label\"] for x in prediction])\n",
    "        for label, prediction in zip(attribute_data[attribute_lov_col], predictions)\n",
    "    ]\n",
    "\n",
    "    dataset_list.append(attribute_data)\n"
   ]
  },
  {
   "attachments": {},
   "cell_type": "markdown",
   "metadata": {},
   "source": [
    "# Saving Predictions"
   ]
  },
  {
   "cell_type": "code",
   "execution_count": null,
   "metadata": {},
   "outputs": [],
   "source": [
    "prediction_data = pd.concat(dataset_list)\n",
    "\n",
    "prediction_data.to_csv(f\"{prediction_attribute_classification_uri}predictions.csv\", index=False)"
   ]
  }
 ],
 "metadata": {
  "kernelspec": {
   "display_name": "pem-entities",
   "language": "python",
   "name": "python3"
  },
  "language_info": {
   "codemirror_mode": {
    "name": "ipython",
    "version": 3
   },
   "file_extension": ".py",
   "mimetype": "text/x-python",
   "name": "python",
   "nbconvert_exporter": "python",
   "pygments_lexer": "ipython3",
   "version": "3.9.16"
  },
  "orig_nbformat": 4
 },
 "nbformat": 4,
 "nbformat_minor": 2
}
