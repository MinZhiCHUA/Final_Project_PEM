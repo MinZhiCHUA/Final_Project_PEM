{
 "cells": [
  {
   "attachments": {},
   "cell_type": "markdown",
   "metadata": {},
   "source": [
    "# Import package"
   ]
  },
  {
   "cell_type": "code",
   "execution_count": 1,
   "metadata": {},
   "outputs": [],
   "source": [
    "import json\n",
    "from pathlib import Path\n",
    "\n",
    "import bentoml\n",
    "import torch\n",
    "from loguru import logger\n",
    "from transformers import AutoTokenizer\n",
    "\n",
    "from attribute_extraction.models.attribute_classification import MultiAttributeClassifier\n",
    "from attribute_extraction.models.mapper import Mapper"
   ]
  },
  {
   "attachments": {},
   "cell_type": "markdown",
   "metadata": {},
   "source": [
    "# Setting up variables"
   ]
  },
  {
   "cell_type": "code",
   "execution_count": 31,
   "metadata": {},
   "outputs": [],
   "source": [
    "projection_dim = 256"
   ]
  },
  {
   "cell_type": "code",
   "execution_count": 33,
   "metadata": {},
   "outputs": [],
   "source": [
    "path = \"/home/20014946/Documents/Final_Project_PEM/Final_Project_PEM/outputs_train_workflow\"\n",
    "hyper_parameters = json.load(open(f\"{path}/hyper_parameters.json\"))\n",
    "\n"
   ]
  },
  {
   "cell_type": "code",
   "execution_count": 39,
   "metadata": {},
   "outputs": [
    {
     "name": "stderr",
     "output_type": "stream",
     "text": [
      "2023-05-23 14:39:58.444 | INFO     | __main__:<module>:9 - tokenizer saved: Model(tag=\"attribute-classification-tokenizer:5u7su7hzm2cabv5j\")\n"
     ]
    }
   ],
   "source": [
    "tokenizer = AutoTokenizer.from_pretrained(hyper_parameters[\"model_name\"])\n",
    "\n",
    "saved_tokenizer = bentoml.picklable_model.save_model(\n",
    "    \"attribute-classification-tokenizer\",\n",
    "    tokenizer,\n",
    "    signatures={\"__call__\": {\"batchable\": False}},\n",
    ")\n",
    "\n",
    "logger.info(f\"tokenizer saved: {saved_tokenizer}\")\n",
    "\n"
   ]
  },
  {
   "cell_type": "code",
   "execution_count": 41,
   "metadata": {},
   "outputs": [
    {
     "ename": "TypeError",
     "evalue": "__init__() missing 1 required positional argument: 'model_name_or_path'",
     "output_type": "error",
     "traceback": [
      "\u001b[0;31m---------------------------------------------------------------------------\u001b[0m",
      "\u001b[0;31mTypeError\u001b[0m                                 Traceback (most recent call last)",
      "\u001b[1;32m/home/20014946/Documents/Final_Project_PEM/Final_Project_PEM/notebooks/7_save_model.ipynb Cell 7\u001b[0m in \u001b[0;36m3\n\u001b[1;32m      <a href='vscode-notebook-cell:/home/20014946/Documents/Final_Project_PEM/Final_Project_PEM/notebooks/7_save_model.ipynb#X11sZmlsZQ%3D%3D?line=0'>1</a>\u001b[0m mapper \u001b[39m=\u001b[39m Mapper\u001b[39m.\u001b[39mload(\u001b[39mf\u001b[39m\u001b[39m\"\u001b[39m\u001b[39m{\u001b[39;00mpath\u001b[39m}\u001b[39;00m\u001b[39m/mapper.json\u001b[39m\u001b[39m\"\u001b[39m)\n\u001b[0;32m----> <a href='vscode-notebook-cell:/home/20014946/Documents/Final_Project_PEM/Final_Project_PEM/notebooks/7_save_model.ipynb#X11sZmlsZQ%3D%3D?line=2'>3</a>\u001b[0m model \u001b[39m=\u001b[39m MultiAttributeClassifier(\n\u001b[1;32m      <a href='vscode-notebook-cell:/home/20014946/Documents/Final_Project_PEM/Final_Project_PEM/notebooks/7_save_model.ipynb#X11sZmlsZQ%3D%3D?line=3'>4</a>\u001b[0m     vocab_size\u001b[39m=\u001b[39;49mtokenizer\u001b[39m.\u001b[39;49mvocab_size,\n\u001b[1;32m      <a href='vscode-notebook-cell:/home/20014946/Documents/Final_Project_PEM/Final_Project_PEM/notebooks/7_save_model.ipynb#X11sZmlsZQ%3D%3D?line=4'>5</a>\u001b[0m     class_config\u001b[39m=\u001b[39;49mmapper\u001b[39m.\u001b[39;49mmappings,\n\u001b[1;32m      <a href='vscode-notebook-cell:/home/20014946/Documents/Final_Project_PEM/Final_Project_PEM/notebooks/7_save_model.ipynb#X11sZmlsZQ%3D%3D?line=5'>6</a>\u001b[0m     projection_dim\u001b[39m=\u001b[39;49mprojection_dim,\n\u001b[1;32m      <a href='vscode-notebook-cell:/home/20014946/Documents/Final_Project_PEM/Final_Project_PEM/notebooks/7_save_model.ipynb#X11sZmlsZQ%3D%3D?line=6'>7</a>\u001b[0m )\n\u001b[1;32m      <a href='vscode-notebook-cell:/home/20014946/Documents/Final_Project_PEM/Final_Project_PEM/notebooks/7_save_model.ipynb#X11sZmlsZQ%3D%3D?line=8'>9</a>\u001b[0m model\u001b[39m.\u001b[39mload_state_dict(\n\u001b[1;32m     <a href='vscode-notebook-cell:/home/20014946/Documents/Final_Project_PEM/Final_Project_PEM/notebooks/7_save_model.ipynb#X11sZmlsZQ%3D%3D?line=9'>10</a>\u001b[0m     torch\u001b[39m.\u001b[39mload(\n\u001b[1;32m     <a href='vscode-notebook-cell:/home/20014946/Documents/Final_Project_PEM/Final_Project_PEM/notebooks/7_save_model.ipynb#X11sZmlsZQ%3D%3D?line=10'>11</a>\u001b[0m         path \u001b[39m/\u001b[39m \u001b[39m\"\u001b[39m\u001b[39mmodel.ckpt\u001b[39m\u001b[39m\"\u001b[39m,\n\u001b[1;32m     <a href='vscode-notebook-cell:/home/20014946/Documents/Final_Project_PEM/Final_Project_PEM/notebooks/7_save_model.ipynb#X11sZmlsZQ%3D%3D?line=11'>12</a>\u001b[0m         map_location\u001b[39m=\u001b[39mtorch\u001b[39m.\u001b[39mdevice(\u001b[39m\"\u001b[39m\u001b[39mcuda\u001b[39m\u001b[39m\"\u001b[39m \u001b[39mif\u001b[39;00m torch\u001b[39m.\u001b[39mcuda\u001b[39m.\u001b[39mis_available() \u001b[39melse\u001b[39;00m \u001b[39m\"\u001b[39m\u001b[39mcpu\u001b[39m\u001b[39m\"\u001b[39m),\n\u001b[1;32m     <a href='vscode-notebook-cell:/home/20014946/Documents/Final_Project_PEM/Final_Project_PEM/notebooks/7_save_model.ipynb#X11sZmlsZQ%3D%3D?line=12'>13</a>\u001b[0m     )[\u001b[39m\"\u001b[39m\u001b[39mstate_dict\u001b[39m\u001b[39m\"\u001b[39m]\n\u001b[1;32m     <a href='vscode-notebook-cell:/home/20014946/Documents/Final_Project_PEM/Final_Project_PEM/notebooks/7_save_model.ipynb#X11sZmlsZQ%3D%3D?line=13'>14</a>\u001b[0m )\n\u001b[1;32m     <a href='vscode-notebook-cell:/home/20014946/Documents/Final_Project_PEM/Final_Project_PEM/notebooks/7_save_model.ipynb#X11sZmlsZQ%3D%3D?line=15'>16</a>\u001b[0m model\u001b[39m.\u001b[39meval()\n",
      "\u001b[0;31mTypeError\u001b[0m: __init__() missing 1 required positional argument: 'model_name_or_path'"
     ]
    }
   ],
   "source": [
    "mapper = Mapper.load(f\"{path}/mapper.json\")\n",
    "\n",
    "model = MultiAttributeClassifier(\n",
    "    vocab_size=tokenizer.vocab_size,\n",
    "    class_config=mapper.mappings,\n",
    "    projection_dim=projection_dim,\n",
    ")\n",
    "\n",
    "model.load_state_dict(\n",
    "    torch.load(\n",
    "        path / \"model.ckpt\",\n",
    "        map_location=torch.device(\"cuda\" if torch.cuda.is_available() else \"cpu\"),\n",
    "    )[\"state_dict\"]\n",
    ")\n",
    "\n",
    "model.eval()\n",
    "\n",
    "saved_model = bentoml.picklable_model.save_model(\n",
    "    \"attribute-classification-model\",\n",
    "    model,\n",
    "    signatures={\"predict_masked\": {\"batchable\": False}},\n",
    ")\n",
    "\n",
    "logger.info(f\"Model saved: {saved_model}\")"
   ]
  }
 ],
 "metadata": {
  "kernelspec": {
   "display_name": "pem-entities",
   "language": "python",
   "name": "python3"
  },
  "language_info": {
   "codemirror_mode": {
    "name": "ipython",
    "version": 3
   },
   "file_extension": ".py",
   "mimetype": "text/x-python",
   "name": "python",
   "nbconvert_exporter": "python",
   "pygments_lexer": "ipython3",
   "version": "3.9.16"
  },
  "orig_nbformat": 4
 },
 "nbformat": 4,
 "nbformat_minor": 2
}
