{
 "cells": [
  {
   "cell_type": "markdown",
   "metadata": {},
   "source": [
    "# Load dataset\n"
   ]
  },
  {
   "cell_type": "code",
   "execution_count": 1,
   "metadata": {},
   "outputs": [],
   "source": [
    "from pathlib import Path\n",
    "\n",
    "base_path = Path(\".\").absolute().parents[0]"
   ]
  },
  {
   "cell_type": "code",
   "execution_count": 2,
   "metadata": {},
   "outputs": [
    {
     "data": {
      "text/plain": [
       "PosixPath('/home/20014946/Documents/Final_Project_PEM/Final_Project_PEM')"
      ]
     },
     "execution_count": 2,
     "metadata": {},
     "output_type": "execute_result"
    }
   ],
   "source": [
    "base_path"
   ]
  },
  {
   "cell_type": "code",
   "execution_count": 3,
   "metadata": {},
   "outputs": [],
   "source": [
    "import sys\n",
    "\n",
    "sys.path.insert(0, str(base_path / \"src\"))"
   ]
  },
  {
   "cell_type": "code",
   "execution_count": 4,
   "metadata": {},
   "outputs": [
    {
     "data": {
      "text/plain": [
       "'/home/20014946/Documents/Final_Project_PEM/Final_Project_PEM/src'"
      ]
     },
     "execution_count": 4,
     "metadata": {},
     "output_type": "execute_result"
    }
   ],
   "source": [
    "str(base_path / \"src\")"
   ]
  },
  {
   "cell_type": "code",
   "execution_count": 5,
   "metadata": {},
   "outputs": [],
   "source": [
    "from google.cloud import bigquery\n",
    "\n",
    "client = bigquery.Client(project=\"artefact-taxonomy\")\n",
    "\n",
    "\n",
    "from utils.text_utils import clean_html\n",
    "from sklearn.model_selection import train_test_split"
   ]
  },
  {
   "cell_type": "code",
   "execution_count": 6,
   "metadata": {},
   "outputs": [],
   "source": [
    "CUTOFF = 5\n",
    "\n",
    "# Define the product_id and target / label\n",
    "id_col = \"adeo_product_id\"\n",
    "title_col = \"title\"\n",
    "language_col = \"lang\"\n",
    "description_raw = \"description\"\n",
    "description_col = \"description_clean\"\n",
    "label_raw_col = \"mirakl_model_code\""
   ]
  },
  {
   "cell_type": "code",
   "execution_count": 7,
   "metadata": {},
   "outputs": [],
   "source": [
    "import pandas as pd\n",
    "\n",
    "pd.options.mode.chained_assignment = None  # default='warn'"
   ]
  },
  {
   "cell_type": "code",
   "execution_count": 8,
   "metadata": {},
   "outputs": [],
   "source": [
    "sql = \"\"\"\n",
    "SELECT * FROM `artefact-taxonomy.pem_uc_add_datasets.temp_simplon_2`\n",
    "\"\"\"\n",
    "\n",
    "df = client.query(sql).to_dataframe()"
   ]
  },
  {
   "cell_type": "code",
   "execution_count": 9,
   "metadata": {},
   "outputs": [],
   "source": [
    "df.to_csv('../data/full_data.csv', index=False)"
   ]
  },
  {
   "cell_type": "code",
   "execution_count": 10,
   "metadata": {},
   "outputs": [],
   "source": [
    "df = pd.read_csv('../data/full_data.csv')"
   ]
  },
  {
   "cell_type": "markdown",
   "metadata": {},
   "source": [
    "## Check the data\n",
    "- 100 mirakl classes\n",
    "- with 4 other attributes:\n",
    "    style: 02419\n",
    "    color: 01746\n",
    "    shape: 00562\n",
    "    battery included: 15344"
   ]
  },
  {
   "cell_type": "code",
   "execution_count": 11,
   "metadata": {},
   "outputs": [
    {
     "name": "stdout",
     "output_type": "stream",
     "text": [
      "<class 'pandas.core.frame.DataFrame'>\n",
      "RangeIndex: 882085 entries, 0 to 882084\n",
      "Data columns (total 15 columns):\n",
      " #   Column             Non-Null Count   Dtype \n",
      "---  ------             --------------   ----- \n",
      " 0   id                 882085 non-null  object\n",
      " 1   adeo_product_id    882085 non-null  int64 \n",
      " 2   title              882085 non-null  object\n",
      " 3   description        882078 non-null  object\n",
      " 4   lang               882085 non-null  object\n",
      " 5   attribute_code     882085 non-null  int64 \n",
      " 6   attribute_label    882085 non-null  object\n",
      " 7   attribute_type     882085 non-null  object\n",
      " 8   is_multivalued     882085 non-null  int64 \n",
      " 9   is_lov             882085 non-null  int64 \n",
      " 10  attribute_value    882085 non-null  object\n",
      " 11  lov_code           882085 non-null  int64 \n",
      " 12  step_model_code    882085 non-null  int64 \n",
      " 13  mirakl_model_code  882085 non-null  object\n",
      " 14  data_source        882085 non-null  object\n",
      "dtypes: int64(6), object(9)\n",
      "memory usage: 100.9+ MB\n"
     ]
    }
   ],
   "source": [
    "df.info()"
   ]
  },
  {
   "cell_type": "markdown",
   "metadata": {},
   "source": [
    "### Number of class available"
   ]
  },
  {
   "cell_type": "code",
   "execution_count": 12,
   "metadata": {},
   "outputs": [
    {
     "data": {
      "text/plain": [
       "100"
      ]
     },
     "execution_count": 12,
     "metadata": {},
     "output_type": "execute_result"
    }
   ],
   "source": [
    "len(df['mirakl_model_code'].unique())"
   ]
  },
  {
   "cell_type": "code",
   "execution_count": 13,
   "metadata": {},
   "outputs": [
    {
     "data": {
      "text/html": [
       "<div>\n",
       "<style scoped>\n",
       "    .dataframe tbody tr th:only-of-type {\n",
       "        vertical-align: middle;\n",
       "    }\n",
       "\n",
       "    .dataframe tbody tr th {\n",
       "        vertical-align: top;\n",
       "    }\n",
       "\n",
       "    .dataframe thead th {\n",
       "        text-align: right;\n",
       "    }\n",
       "</style>\n",
       "<table border=\"1\" class=\"dataframe\">\n",
       "  <thead>\n",
       "    <tr style=\"text-align: right;\">\n",
       "      <th></th>\n",
       "      <th>id</th>\n",
       "      <th>adeo_product_id</th>\n",
       "      <th>title</th>\n",
       "      <th>description</th>\n",
       "      <th>lang</th>\n",
       "      <th>attribute_label</th>\n",
       "      <th>attribute_type</th>\n",
       "      <th>is_multivalued</th>\n",
       "      <th>is_lov</th>\n",
       "      <th>attribute_value</th>\n",
       "      <th>lov_code</th>\n",
       "      <th>step_model_code</th>\n",
       "      <th>mirakl_model_code</th>\n",
       "      <th>data_source</th>\n",
       "    </tr>\n",
       "    <tr>\n",
       "      <th>attribute_code</th>\n",
       "      <th></th>\n",
       "      <th></th>\n",
       "      <th></th>\n",
       "      <th></th>\n",
       "      <th></th>\n",
       "      <th></th>\n",
       "      <th></th>\n",
       "      <th></th>\n",
       "      <th></th>\n",
       "      <th></th>\n",
       "      <th></th>\n",
       "      <th></th>\n",
       "      <th></th>\n",
       "      <th></th>\n",
       "    </tr>\n",
       "  </thead>\n",
       "  <tbody>\n",
       "    <tr>\n",
       "      <th>562</th>\n",
       "      <td>220916</td>\n",
       "      <td>220916</td>\n",
       "      <td>220916</td>\n",
       "      <td>220916</td>\n",
       "      <td>220916</td>\n",
       "      <td>220916</td>\n",
       "      <td>220916</td>\n",
       "      <td>220916</td>\n",
       "      <td>220916</td>\n",
       "      <td>220916</td>\n",
       "      <td>220916</td>\n",
       "      <td>220916</td>\n",
       "      <td>220916</td>\n",
       "      <td>220916</td>\n",
       "    </tr>\n",
       "    <tr>\n",
       "      <th>1746</th>\n",
       "      <td>120945</td>\n",
       "      <td>120945</td>\n",
       "      <td>120945</td>\n",
       "      <td>120945</td>\n",
       "      <td>120945</td>\n",
       "      <td>120945</td>\n",
       "      <td>120945</td>\n",
       "      <td>120945</td>\n",
       "      <td>120945</td>\n",
       "      <td>120945</td>\n",
       "      <td>120945</td>\n",
       "      <td>120945</td>\n",
       "      <td>120945</td>\n",
       "      <td>120945</td>\n",
       "    </tr>\n",
       "    <tr>\n",
       "      <th>2419</th>\n",
       "      <td>357047</td>\n",
       "      <td>357047</td>\n",
       "      <td>357047</td>\n",
       "      <td>357040</td>\n",
       "      <td>357047</td>\n",
       "      <td>357047</td>\n",
       "      <td>357047</td>\n",
       "      <td>357047</td>\n",
       "      <td>357047</td>\n",
       "      <td>357047</td>\n",
       "      <td>357047</td>\n",
       "      <td>357047</td>\n",
       "      <td>357047</td>\n",
       "      <td>357047</td>\n",
       "    </tr>\n",
       "    <tr>\n",
       "      <th>15344</th>\n",
       "      <td>183177</td>\n",
       "      <td>183177</td>\n",
       "      <td>183177</td>\n",
       "      <td>183177</td>\n",
       "      <td>183177</td>\n",
       "      <td>183177</td>\n",
       "      <td>183177</td>\n",
       "      <td>183177</td>\n",
       "      <td>183177</td>\n",
       "      <td>183177</td>\n",
       "      <td>183177</td>\n",
       "      <td>183177</td>\n",
       "      <td>183177</td>\n",
       "      <td>183177</td>\n",
       "    </tr>\n",
       "  </tbody>\n",
       "</table>\n",
       "</div>"
      ],
      "text/plain": [
       "                    id  adeo_product_id   title  description    lang  \\\n",
       "attribute_code                                                         \n",
       "562             220916           220916  220916       220916  220916   \n",
       "1746            120945           120945  120945       120945  120945   \n",
       "2419            357047           357047  357047       357040  357047   \n",
       "15344           183177           183177  183177       183177  183177   \n",
       "\n",
       "                attribute_label  attribute_type  is_multivalued  is_lov  \\\n",
       "attribute_code                                                            \n",
       "562                      220916          220916          220916  220916   \n",
       "1746                     120945          120945          120945  120945   \n",
       "2419                     357047          357047          357047  357047   \n",
       "15344                    183177          183177          183177  183177   \n",
       "\n",
       "                attribute_value  lov_code  step_model_code  mirakl_model_code  \\\n",
       "attribute_code                                                                  \n",
       "562                      220916    220916           220916             220916   \n",
       "1746                     120945    120945           120945             120945   \n",
       "2419                     357047    357047           357047             357047   \n",
       "15344                    183177    183177           183177             183177   \n",
       "\n",
       "                data_source  \n",
       "attribute_code               \n",
       "562                  220916  \n",
       "1746                 120945  \n",
       "2419                 357047  \n",
       "15344                183177  "
      ]
     },
     "execution_count": 13,
     "metadata": {},
     "output_type": "execute_result"
    }
   ],
   "source": [
    "df.groupby('attribute_code').count()"
   ]
  },
  {
   "cell_type": "markdown",
   "metadata": {},
   "source": [
    "### Check if any null values"
   ]
  },
  {
   "cell_type": "code",
   "execution_count": 14,
   "metadata": {},
   "outputs": [
    {
     "data": {
      "text/plain": [
       "id                   0\n",
       "adeo_product_id      0\n",
       "title                0\n",
       "description          7\n",
       "lang                 0\n",
       "attribute_code       0\n",
       "attribute_label      0\n",
       "attribute_type       0\n",
       "is_multivalued       0\n",
       "is_lov               0\n",
       "attribute_value      0\n",
       "lov_code             0\n",
       "step_model_code      0\n",
       "mirakl_model_code    0\n",
       "data_source          0\n",
       "dtype: int64"
      ]
     },
     "execution_count": 14,
     "metadata": {},
     "output_type": "execute_result"
    }
   ],
   "source": [
    "df.isnull().sum()"
   ]
  },
  {
   "cell_type": "code",
   "execution_count": 15,
   "metadata": {},
   "outputs": [
    {
     "data": {
      "text/plain": [
       "True"
      ]
     },
     "execution_count": 15,
     "metadata": {},
     "output_type": "execute_result"
    }
   ],
   "source": [
    "df.isnull().values.any()"
   ]
  },
  {
   "cell_type": "markdown",
   "metadata": {},
   "source": [
    "# Data Cleaning"
   ]
  },
  {
   "cell_type": "code",
   "execution_count": 16,
   "metadata": {},
   "outputs": [],
   "source": [
    "df[description_col] = df[description_raw].copy\n",
    "df[description_col] = (\n",
    "    df[description_raw].loc[df[description_raw].notnull()].apply(clean_html)\n",
    ")\n",
    "df.fillna(\"\", inplace=True)"
   ]
  },
  {
   "cell_type": "code",
   "execution_count": 17,
   "metadata": {},
   "outputs": [
    {
     "data": {
      "text/plain": [
       "False"
      ]
     },
     "execution_count": 17,
     "metadata": {},
     "output_type": "execute_result"
    }
   ],
   "source": [
    "df.isnull().values.any()"
   ]
  },
  {
   "cell_type": "markdown",
   "metadata": {},
   "source": [
    "## Preprocessing"
   ]
  },
  {
   "cell_type": "markdown",
   "metadata": {},
   "source": [
    "### Down sampling to have only 500 samples (mixture of attributes) per class"
   ]
  },
  {
   "cell_type": "code",
   "execution_count": 18,
   "metadata": {},
   "outputs": [
    {
     "name": "stdout",
     "output_type": "stream",
     "text": [
      "(50000, 16)\n"
     ]
    }
   ],
   "source": [
    "n = 500\n",
    "msk = df.groupby(label_raw_col)[label_raw_col].transform('size') >= n\n",
    "df_cut = pd.concat((df[msk].groupby(label_raw_col).sample(n=n), df[~msk]), ignore_index=True)\n",
    "print(df_cut.shape)"
   ]
  },
  {
   "cell_type": "markdown",
   "metadata": {},
   "source": [
    "### Get unique id to ensure a single product will only be either in train or test or val (avoid data leaking)"
   ]
  },
  {
   "cell_type": "code",
   "execution_count": 31,
   "metadata": {},
   "outputs": [],
   "source": [
    "# Get unique id to ensure a single product will only be either in train or test or val \n",
    "# To avoid data leaking\n",
    "# df_unique = df_cut.copy()\n",
    "# df_unique.drop(columns=[title_col, language_col, description_raw], inplace=True)\n",
    "df_unique = df_cut[[id_col,label_raw_col]]\n",
    "df_unique = df_unique.drop_duplicates(subset=id_col, keep=\"first\")"
   ]
  },
  {
   "cell_type": "code",
   "execution_count": 32,
   "metadata": {},
   "outputs": [],
   "source": [
    "# Calculate the no. of entries and models removed due to sample <= CUTOFF per model\n",
    "sample_cut_lackofsample = df.shape[0] - df_cut.shape[0]\n",
    "model_cut_lackofsample = df[label_raw_col].nunique() - df_cut[label_raw_col].nunique()"
   ]
  },
  {
   "cell_type": "code",
   "execution_count": 33,
   "metadata": {},
   "outputs": [],
   "source": [
    "# Calculate the no. of entries and models removed due to sample <= CUTOFF per model\n",
    "sample_cut_lackofinfo = df.shape[0] - df_cut.shape[0] - sample_cut_lackofsample\n",
    "model_cut_lackofinfo = (\n",
    "    df[label_raw_col].nunique() - df_cut[label_raw_col].nunique() - model_cut_lackofsample\n",
    ")"
   ]
  },
  {
   "cell_type": "code",
   "execution_count": 34,
   "metadata": {},
   "outputs": [],
   "source": [
    "# Split the unique adeo_product_id\n",
    "# To ensure that a unique adeo_product_id exist in only 1 dataset - to avoid data leaking\n",
    "\n",
    "train_val, test = train_test_split(df_unique, test_size=0.1, stratify=df_unique[label_raw_col])\n",
    "train, val = train_test_split(train_val, test_size=0.1, stratify=train_val[label_raw_col])"
   ]
  },
  {
   "cell_type": "code",
   "execution_count": 35,
   "metadata": {},
   "outputs": [
    {
     "data": {
      "text/plain": [
       "Index(['adeo_product_id', 'mirakl_model_code'], dtype='object')"
      ]
     },
     "execution_count": 35,
     "metadata": {},
     "output_type": "execute_result"
    }
   ],
   "source": [
    "val.columns"
   ]
  },
  {
   "cell_type": "code",
   "execution_count": 36,
   "metadata": {},
   "outputs": [
    {
     "data": {
      "text/plain": [
       "Index(['id', 'adeo_product_id', 'title', 'description', 'lang',\n",
       "       'attribute_code', 'attribute_label', 'attribute_type', 'is_multivalued',\n",
       "       'is_lov', 'attribute_value', 'lov_code', 'step_model_code',\n",
       "       'mirakl_model_code', 'data_source', 'description_clean'],\n",
       "      dtype='object')"
      ]
     },
     "execution_count": 36,
     "metadata": {},
     "output_type": "execute_result"
    }
   ],
   "source": [
    "df_cut.columns"
   ]
  },
  {
   "cell_type": "markdown",
   "metadata": {},
   "source": [
    "## Merge it back to the main df "
   ]
  },
  {
   "cell_type": "code",
   "execution_count": 37,
   "metadata": {},
   "outputs": [],
   "source": [
    "del val[label_raw_col]\n",
    "val = val.merge(df_cut, how=\"inner\", on=id_col)"
   ]
  },
  {
   "cell_type": "code",
   "execution_count": 38,
   "metadata": {},
   "outputs": [],
   "source": [
    "del train[label_raw_col]\n",
    "train = train.merge(df_cut, how=\"inner\", on=id_col)"
   ]
  },
  {
   "cell_type": "code",
   "execution_count": 39,
   "metadata": {},
   "outputs": [],
   "source": [
    "del test[label_raw_col]\n",
    "test = test.merge(df_cut, how=\"inner\", on=id_col)"
   ]
  },
  {
   "cell_type": "markdown",
   "metadata": {},
   "source": [
    "## Check for overlapping"
   ]
  },
  {
   "cell_type": "code",
   "execution_count": 40,
   "metadata": {},
   "outputs": [],
   "source": [
    "import numpy as np\n",
    "\n",
    "\n",
    "def check_if_overlap(df1, df2, on_column):\n",
    "    # merge two dataFrames and add indicator column\n",
    "    all_df = pd.merge(df1, df2, on=on_column, how=\"left\", indicator=\"exists\")\n",
    "    # add column to show if each row in first DataFrame exists in second\n",
    "    all_df[\"exists\"] = np.where(all_df.exists == \"both\", True, False)\n",
    "    if all_df[\"exists\"].sum() == 0:\n",
    "        print(\"These 2 dataframes are not overlapped over \", on_column)\n",
    "    else:\n",
    "        print(\"There are overlapped entries!!\")"
   ]
  },
  {
   "cell_type": "code",
   "execution_count": 41,
   "metadata": {},
   "outputs": [
    {
     "name": "stdout",
     "output_type": "stream",
     "text": [
      "These 2 dataframes are not overlapped over  adeo_product_id\n"
     ]
    }
   ],
   "source": [
    "check_if_overlap(val, train, id_col)"
   ]
  },
  {
   "cell_type": "code",
   "execution_count": 42,
   "metadata": {},
   "outputs": [
    {
     "name": "stdout",
     "output_type": "stream",
     "text": [
      "These 2 dataframes are not overlapped over  adeo_product_id\n"
     ]
    }
   ],
   "source": [
    "check_if_overlap(test, train, id_col)"
   ]
  },
  {
   "cell_type": "code",
   "execution_count": 43,
   "metadata": {},
   "outputs": [
    {
     "name": "stdout",
     "output_type": "stream",
     "text": [
      "These 2 dataframes are not overlapped over  adeo_product_id\n"
     ]
    }
   ],
   "source": [
    "check_if_overlap(test, val, id_col)"
   ]
  },
  {
   "cell_type": "markdown",
   "metadata": {},
   "source": [
    "## Summary"
   ]
  },
  {
   "cell_type": "code",
   "execution_count": 44,
   "metadata": {},
   "outputs": [
    {
     "name": "stdout",
     "output_type": "stream",
     "text": [
      "============================\n",
      "Full Dataset\n",
      "============================\n",
      "No. entries: 882085\n",
      "No. of models (categories / label):  100\n",
      "No. of entries removed due to num of samples < CUTOFF:  832085\n",
      "No. of models removed due to num of samples < CUTOFF:  0\n",
      "No. of entries removed due to lack of product information (no title & no description):  0\n",
      "No. of models removed due to to lack of product information (no title & no description):  0\n",
      "No. of entries after cut  50000\n",
      "No. of models after cut  100\n",
      "============================\n",
      "Train Dataset\n",
      "============================\n",
      "No. entries: 40501\n",
      "No. of models (categories / label):  100\n",
      "============================\n",
      "Val Dataset\n",
      "============================\n",
      "No. entries: 4477\n",
      "No. of models (categories / label):  100\n",
      "============================\n",
      "Test Dataset\n",
      "============================\n",
      "No. entries: 5022\n",
      "No. of models (categories / label):  100\n",
      "============================\n",
      "Verify if Dataset is correct\n",
      "============================\n",
      "The total no. of entries matched!!\n"
     ]
    }
   ],
   "source": [
    "print(\"============================\")\n",
    "print(\"Full Dataset\")\n",
    "print(\"============================\")\n",
    "print(\"No. entries:\", df.shape[0])\n",
    "print(\"No. of models (categories / label): \", df[label_raw_col].nunique())\n",
    "\n",
    "print(\"No. of entries removed due to num of samples < CUTOFF: \", sample_cut_lackofsample)\n",
    "print(\"No. of models removed due to num of samples < CUTOFF: \", model_cut_lackofsample)\n",
    "\n",
    "print(\n",
    "    \"No. of entries removed due to lack of product information (no title & no description): \",\n",
    "    sample_cut_lackofinfo,\n",
    ")\n",
    "print(\n",
    "    \"No. of models removed due to to lack of product information (no title & no description): \",\n",
    "    model_cut_lackofinfo,\n",
    ")\n",
    "\n",
    "print(\"No. of entries after cut \", (df_cut.shape[0]))\n",
    "print(\"No. of models after cut \", (df_cut[label_raw_col].nunique()))\n",
    "\n",
    "print(\"============================\")\n",
    "print(\"Train Dataset\")\n",
    "print(\"============================\")\n",
    "print(\"No. entries:\", train.shape[0])\n",
    "print(\"No. of models (categories / label): \", train[label_raw_col].nunique())\n",
    "\n",
    "print(\"============================\")\n",
    "print(\"Val Dataset\")\n",
    "print(\"============================\")\n",
    "print(\"No. entries:\", val.shape[0])\n",
    "print(\"No. of models (categories / label): \", val[label_raw_col].nunique())\n",
    "\n",
    "print(\"============================\")\n",
    "print(\"Test Dataset\")\n",
    "print(\"============================\")\n",
    "print(\"No. entries:\", test.shape[0])\n",
    "print(\"No. of models (categories / label): \", test[label_raw_col].nunique())\n",
    "\n",
    "\n",
    "print(\"============================\")\n",
    "print(\"Verify if Dataset is correct\")\n",
    "print(\"============================\")\n",
    "if train.shape[0] + val.shape[0] + test.shape[0] == df_cut.shape[0]:\n",
    "    print(\"The total no. of entries matched!!\")\n",
    "else:\n",
    "    print(\"No. of entries matching ERROR!!\")"
   ]
  },
  {
   "cell_type": "markdown",
   "metadata": {},
   "source": [
    "## Save train, val, test split separately"
   ]
  },
  {
   "cell_type": "code",
   "execution_count": 48,
   "metadata": {},
   "outputs": [],
   "source": [
    "train.to_csv('../data/train.csv', index=False)"
   ]
  },
  {
   "cell_type": "code",
   "execution_count": 49,
   "metadata": {},
   "outputs": [],
   "source": [
    "val.to_csv('../data/val.csv', index=False)"
   ]
  },
  {
   "cell_type": "code",
   "execution_count": 50,
   "metadata": {},
   "outputs": [],
   "source": [
    "test.to_csv('../data/test.csv', index=False)"
   ]
  }
 ],
 "metadata": {
  "environment": {
   "kernel": "python3",
   "name": "common-cu110.m100",
   "type": "gcloud",
   "uri": "gcr.io/deeplearning-platform-release/base-cu110:m100"
  },
  "kernelspec": {
   "display_name": "Python 3.10.8 ('product_classification')",
   "language": "python",
   "name": "python3"
  },
  "language_info": {
   "codemirror_mode": {
    "name": "ipython",
    "version": 3
   },
   "file_extension": ".py",
   "mimetype": "text/x-python",
   "name": "python",
   "nbconvert_exporter": "python",
   "pygments_lexer": "ipython3",
   "version": "3.10.8"
  },
  "vscode": {
   "interpreter": {
    "hash": "10530e19dcdfe73a7151595320d247214b692837f071583cab392004ec8982fa"
   }
  }
 },
 "nbformat": 4,
 "nbformat_minor": 4
}
