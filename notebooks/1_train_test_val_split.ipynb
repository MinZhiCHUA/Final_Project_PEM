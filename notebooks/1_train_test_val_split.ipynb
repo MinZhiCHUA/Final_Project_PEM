{
 "cells": [
  {
   "cell_type": "markdown",
   "metadata": {},
   "source": [
    "# Load dataset\n"
   ]
  },
  {
   "cell_type": "code",
   "execution_count": 1,
   "metadata": {},
   "outputs": [],
   "source": [
    "from pathlib import Path\n",
    "\n",
    "base_path = Path(\".\").absolute().parents[0]"
   ]
  },
  {
   "cell_type": "code",
   "execution_count": 2,
   "metadata": {},
   "outputs": [
    {
     "data": {
      "text/plain": [
       "PosixPath('/home/20014946/Documents/Final_Project_PEM/Final_Project_PEM')"
      ]
     },
     "execution_count": 2,
     "metadata": {},
     "output_type": "execute_result"
    }
   ],
   "source": [
    "base_path"
   ]
  },
  {
   "cell_type": "code",
   "execution_count": 3,
   "metadata": {},
   "outputs": [],
   "source": [
    "import sys\n",
    "\n",
    "sys.path.insert(0, str(base_path / \"src\"))"
   ]
  },
  {
   "cell_type": "code",
   "execution_count": 4,
   "metadata": {},
   "outputs": [
    {
     "data": {
      "text/plain": [
       "'/home/20014946/Documents/Final_Project_PEM/Final_Project_PEM/src'"
      ]
     },
     "execution_count": 4,
     "metadata": {},
     "output_type": "execute_result"
    }
   ],
   "source": [
    "str(base_path / \"src\")"
   ]
  },
  {
   "cell_type": "code",
   "execution_count": 5,
   "metadata": {},
   "outputs": [],
   "source": [
    "from google.cloud import bigquery\n",
    "\n",
    "client = bigquery.Client(project=\"artefact-taxonomy\")\n",
    "\n",
    "\n",
    "from utils.text_utils import clean_html\n",
    "from sklearn.model_selection import train_test_split"
   ]
  },
  {
   "cell_type": "code",
   "execution_count": 6,
   "metadata": {},
   "outputs": [],
   "source": [
    "CUTOFF = 5\n",
    "\n",
    "# Define the product_id and target / label\n",
    "id_col = \"adeo_product_id\"\n",
    "title_col = \"title\"\n",
    "language_col = \"lang\"\n",
    "description_raw = \"description\"\n",
    "description_col = \"description_clean\"\n",
    "label_raw_col = \"mirakl_model_code\""
   ]
  },
  {
   "cell_type": "code",
   "execution_count": 7,
   "metadata": {},
   "outputs": [],
   "source": [
    "import pandas as pd\n",
    "\n",
    "pd.options.mode.chained_assignment = None  # default='warn'"
   ]
  },
  {
   "cell_type": "code",
   "execution_count": 8,
   "metadata": {},
   "outputs": [],
   "source": [
    "# sql = \"\"\"\n",
    "# SELECT * FROM `artefact-taxonomy.pem_uc_add_datasets.temp_simplon_2`\n",
    "# \"\"\"\n",
    "\n",
    "# df = client.query(sql).to_dataframe()"
   ]
  },
  {
   "cell_type": "code",
   "execution_count": 9,
   "metadata": {},
   "outputs": [],
   "source": [
    "# df.to_csv('../data/full_data.csv', index=False)"
   ]
  },
  {
   "cell_type": "code",
   "execution_count": 10,
   "metadata": {},
   "outputs": [],
   "source": [
    "df = pd.read_csv('../data/full_data.csv')"
   ]
  },
  {
   "cell_type": "markdown",
   "metadata": {},
   "source": [
    "## Check the data\n",
    "- 100 mirakl classes\n",
    "- with 4 other attributes:\n",
    "    style: 02419\n",
    "    color: 01746\n",
    "    shape: 00562\n",
    "    battery included: 15344"
   ]
  },
  {
   "cell_type": "code",
   "execution_count": 11,
   "metadata": {},
   "outputs": [
    {
     "name": "stdout",
     "output_type": "stream",
     "text": [
      "<class 'pandas.core.frame.DataFrame'>\n",
      "RangeIndex: 882085 entries, 0 to 882084\n",
      "Data columns (total 15 columns):\n",
      " #   Column             Non-Null Count   Dtype \n",
      "---  ------             --------------   ----- \n",
      " 0   id                 882085 non-null  object\n",
      " 1   adeo_product_id    882085 non-null  int64 \n",
      " 2   title              882085 non-null  object\n",
      " 3   description        882078 non-null  object\n",
      " 4   lang               882085 non-null  object\n",
      " 5   attribute_code     882085 non-null  int64 \n",
      " 6   attribute_label    882085 non-null  object\n",
      " 7   attribute_type     882085 non-null  object\n",
      " 8   is_multivalued     882085 non-null  int64 \n",
      " 9   is_lov             882085 non-null  int64 \n",
      " 10  attribute_value    882085 non-null  object\n",
      " 11  lov_code           882085 non-null  int64 \n",
      " 12  step_model_code    882085 non-null  int64 \n",
      " 13  mirakl_model_code  882085 non-null  object\n",
      " 14  data_source        882085 non-null  object\n",
      "dtypes: int64(6), object(9)\n",
      "memory usage: 100.9+ MB\n"
     ]
    }
   ],
   "source": [
    "df.info()"
   ]
  },
  {
   "cell_type": "markdown",
   "metadata": {},
   "source": [
    "### Number of class available"
   ]
  },
  {
   "cell_type": "code",
   "execution_count": 12,
   "metadata": {},
   "outputs": [
    {
     "data": {
      "text/plain": [
       "100"
      ]
     },
     "execution_count": 12,
     "metadata": {},
     "output_type": "execute_result"
    }
   ],
   "source": [
    "len(df['mirakl_model_code'].unique())"
   ]
  },
  {
   "cell_type": "code",
   "execution_count": 13,
   "metadata": {},
   "outputs": [
    {
     "data": {
      "text/html": [
       "<div>\n",
       "<style scoped>\n",
       "    .dataframe tbody tr th:only-of-type {\n",
       "        vertical-align: middle;\n",
       "    }\n",
       "\n",
       "    .dataframe tbody tr th {\n",
       "        vertical-align: top;\n",
       "    }\n",
       "\n",
       "    .dataframe thead th {\n",
       "        text-align: right;\n",
       "    }\n",
       "</style>\n",
       "<table border=\"1\" class=\"dataframe\">\n",
       "  <thead>\n",
       "    <tr style=\"text-align: right;\">\n",
       "      <th></th>\n",
       "      <th>id</th>\n",
       "      <th>adeo_product_id</th>\n",
       "      <th>title</th>\n",
       "      <th>description</th>\n",
       "      <th>lang</th>\n",
       "      <th>attribute_label</th>\n",
       "      <th>attribute_type</th>\n",
       "      <th>is_multivalued</th>\n",
       "      <th>is_lov</th>\n",
       "      <th>attribute_value</th>\n",
       "      <th>lov_code</th>\n",
       "      <th>step_model_code</th>\n",
       "      <th>mirakl_model_code</th>\n",
       "      <th>data_source</th>\n",
       "    </tr>\n",
       "    <tr>\n",
       "      <th>attribute_code</th>\n",
       "      <th></th>\n",
       "      <th></th>\n",
       "      <th></th>\n",
       "      <th></th>\n",
       "      <th></th>\n",
       "      <th></th>\n",
       "      <th></th>\n",
       "      <th></th>\n",
       "      <th></th>\n",
       "      <th></th>\n",
       "      <th></th>\n",
       "      <th></th>\n",
       "      <th></th>\n",
       "      <th></th>\n",
       "    </tr>\n",
       "  </thead>\n",
       "  <tbody>\n",
       "    <tr>\n",
       "      <th>562</th>\n",
       "      <td>220916</td>\n",
       "      <td>220916</td>\n",
       "      <td>220916</td>\n",
       "      <td>220916</td>\n",
       "      <td>220916</td>\n",
       "      <td>220916</td>\n",
       "      <td>220916</td>\n",
       "      <td>220916</td>\n",
       "      <td>220916</td>\n",
       "      <td>220916</td>\n",
       "      <td>220916</td>\n",
       "      <td>220916</td>\n",
       "      <td>220916</td>\n",
       "      <td>220916</td>\n",
       "    </tr>\n",
       "    <tr>\n",
       "      <th>1746</th>\n",
       "      <td>120945</td>\n",
       "      <td>120945</td>\n",
       "      <td>120945</td>\n",
       "      <td>120945</td>\n",
       "      <td>120945</td>\n",
       "      <td>120945</td>\n",
       "      <td>120945</td>\n",
       "      <td>120945</td>\n",
       "      <td>120945</td>\n",
       "      <td>120945</td>\n",
       "      <td>120945</td>\n",
       "      <td>120945</td>\n",
       "      <td>120945</td>\n",
       "      <td>120945</td>\n",
       "    </tr>\n",
       "    <tr>\n",
       "      <th>2419</th>\n",
       "      <td>357047</td>\n",
       "      <td>357047</td>\n",
       "      <td>357047</td>\n",
       "      <td>357040</td>\n",
       "      <td>357047</td>\n",
       "      <td>357047</td>\n",
       "      <td>357047</td>\n",
       "      <td>357047</td>\n",
       "      <td>357047</td>\n",
       "      <td>357047</td>\n",
       "      <td>357047</td>\n",
       "      <td>357047</td>\n",
       "      <td>357047</td>\n",
       "      <td>357047</td>\n",
       "    </tr>\n",
       "    <tr>\n",
       "      <th>15344</th>\n",
       "      <td>183177</td>\n",
       "      <td>183177</td>\n",
       "      <td>183177</td>\n",
       "      <td>183177</td>\n",
       "      <td>183177</td>\n",
       "      <td>183177</td>\n",
       "      <td>183177</td>\n",
       "      <td>183177</td>\n",
       "      <td>183177</td>\n",
       "      <td>183177</td>\n",
       "      <td>183177</td>\n",
       "      <td>183177</td>\n",
       "      <td>183177</td>\n",
       "      <td>183177</td>\n",
       "    </tr>\n",
       "  </tbody>\n",
       "</table>\n",
       "</div>"
      ],
      "text/plain": [
       "                    id  adeo_product_id   title  description    lang  \\\n",
       "attribute_code                                                         \n",
       "562             220916           220916  220916       220916  220916   \n",
       "1746            120945           120945  120945       120945  120945   \n",
       "2419            357047           357047  357047       357040  357047   \n",
       "15344           183177           183177  183177       183177  183177   \n",
       "\n",
       "                attribute_label  attribute_type  is_multivalued  is_lov  \\\n",
       "attribute_code                                                            \n",
       "562                      220916          220916          220916  220916   \n",
       "1746                     120945          120945          120945  120945   \n",
       "2419                     357047          357047          357047  357047   \n",
       "15344                    183177          183177          183177  183177   \n",
       "\n",
       "                attribute_value  lov_code  step_model_code  mirakl_model_code  \\\n",
       "attribute_code                                                                  \n",
       "562                      220916    220916           220916             220916   \n",
       "1746                     120945    120945           120945             120945   \n",
       "2419                     357047    357047           357047             357047   \n",
       "15344                    183177    183177           183177             183177   \n",
       "\n",
       "                data_source  \n",
       "attribute_code               \n",
       "562                  220916  \n",
       "1746                 120945  \n",
       "2419                 357047  \n",
       "15344                183177  "
      ]
     },
     "execution_count": 13,
     "metadata": {},
     "output_type": "execute_result"
    }
   ],
   "source": [
    "df.groupby('attribute_code').count()"
   ]
  },
  {
   "cell_type": "markdown",
   "metadata": {},
   "source": [
    "### Check if any null values"
   ]
  },
  {
   "cell_type": "code",
   "execution_count": 14,
   "metadata": {},
   "outputs": [
    {
     "data": {
      "text/plain": [
       "id                   0\n",
       "adeo_product_id      0\n",
       "title                0\n",
       "description          7\n",
       "lang                 0\n",
       "attribute_code       0\n",
       "attribute_label      0\n",
       "attribute_type       0\n",
       "is_multivalued       0\n",
       "is_lov               0\n",
       "attribute_value      0\n",
       "lov_code             0\n",
       "step_model_code      0\n",
       "mirakl_model_code    0\n",
       "data_source          0\n",
       "dtype: int64"
      ]
     },
     "execution_count": 14,
     "metadata": {},
     "output_type": "execute_result"
    }
   ],
   "source": [
    "df.isnull().sum()"
   ]
  },
  {
   "cell_type": "code",
   "execution_count": 15,
   "metadata": {},
   "outputs": [
    {
     "data": {
      "text/plain": [
       "True"
      ]
     },
     "execution_count": 15,
     "metadata": {},
     "output_type": "execute_result"
    }
   ],
   "source": [
    "df.isnull().values.any()"
   ]
  },
  {
   "cell_type": "markdown",
   "metadata": {},
   "source": [
    "## Data Exploration"
   ]
  },
  {
   "cell_type": "markdown",
   "metadata": {},
   "source": [
    "# Data Cleaning"
   ]
  },
  {
   "cell_type": "code",
   "execution_count": 16,
   "metadata": {},
   "outputs": [],
   "source": [
    "df[description_col] = df[description_raw].copy\n",
    "df[description_col] = (\n",
    "    df[description_raw].loc[df[description_raw].notnull()].apply(clean_html)\n",
    ")\n",
    "df.fillna(\"\", inplace=True)"
   ]
  },
  {
   "cell_type": "code",
   "execution_count": 17,
   "metadata": {},
   "outputs": [
    {
     "data": {
      "text/plain": [
       "False"
      ]
     },
     "execution_count": 17,
     "metadata": {},
     "output_type": "execute_result"
    }
   ],
   "source": [
    "df.isnull().values.any()"
   ]
  },
  {
   "cell_type": "markdown",
   "metadata": {},
   "source": [
    "## Preprocessing"
   ]
  },
  {
   "cell_type": "markdown",
   "metadata": {},
   "source": [
    "### Down sampling to have only 500 samples (mixture of attributes) per class"
   ]
  },
  {
   "cell_type": "code",
   "execution_count": 18,
   "metadata": {},
   "outputs": [
    {
     "name": "stdout",
     "output_type": "stream",
     "text": [
      "(50000, 16)\n"
     ]
    }
   ],
   "source": [
    "n = 500\n",
    "msk = df.groupby(label_raw_col)[label_raw_col].transform('size') >= n\n",
    "df_cut = pd.concat((df[msk].groupby(label_raw_col).sample(n=n), df[~msk]), ignore_index=True)\n",
    "print(df_cut.shape)"
   ]
  },
  {
   "cell_type": "markdown",
   "metadata": {},
   "source": [
    "### Get unique id to ensure a single product will only be either in train or test or val (avoid data leaking)"
   ]
  },
  {
   "cell_type": "code",
   "execution_count": 26,
   "metadata": {},
   "outputs": [],
   "source": [
    "# Get unique id to ensure a single product will only be either in train or test or val \n",
    "# To avoid data leaking\n",
    "# df_unique = df_cut.copy()\n",
    "# df_unique.drop(columns=[title_col, language_col, description_raw], inplace=True)\n",
    "df_unique = df_cut[[id_col,label_raw_col]]\n",
    "df_unique = df_unique.drop_duplicates(subset=id_col, keep=\"first\")"
   ]
  },
  {
   "cell_type": "code",
   "execution_count": 28,
   "metadata": {},
   "outputs": [],
   "source": [
    "# Calculate the no. of entries and models removed due to sample <= CUTOFF per model\n",
    "sample_cut_lackofsample = df.shape[0] - df_cut.shape[0]\n",
    "model_cut_lackofsample = df[label_raw_col].nunique() - df_cut[label_raw_col].nunique()"
   ]
  },
  {
   "cell_type": "code",
   "execution_count": 29,
   "metadata": {},
   "outputs": [],
   "source": [
    "# Calculate the no. of entries and models removed due to sample <= CUTOFF per model\n",
    "sample_cut_lackofinfo = df.shape[0] - df_cut.shape[0] - sample_cut_lackofsample\n",
    "model_cut_lackofinfo = (\n",
    "    df[label_raw_col].nunique() - df_cut[label_raw_col].nunique() - model_cut_lackofsample\n",
    ")"
   ]
  },
  {
   "cell_type": "code",
   "execution_count": 30,
   "metadata": {},
   "outputs": [
    {
     "ename": "KeyError",
     "evalue": "'mirakl_model_code'",
     "output_type": "error",
     "traceback": [
      "\u001b[0;31m---------------------------------------------------------------------------\u001b[0m",
      "\u001b[0;31mKeyError\u001b[0m                                  Traceback (most recent call last)",
      "File \u001b[0;32m~/anaconda3/envs/product_classification/lib/python3.10/site-packages/pandas/core/indexes/base.py:3803\u001b[0m, in \u001b[0;36mIndex.get_loc\u001b[0;34m(self, key, method, tolerance)\u001b[0m\n\u001b[1;32m   3802\u001b[0m \u001b[39mtry\u001b[39;00m:\n\u001b[0;32m-> 3803\u001b[0m     \u001b[39mreturn\u001b[39;00m \u001b[39mself\u001b[39;49m\u001b[39m.\u001b[39;49m_engine\u001b[39m.\u001b[39;49mget_loc(casted_key)\n\u001b[1;32m   3804\u001b[0m \u001b[39mexcept\u001b[39;00m \u001b[39mKeyError\u001b[39;00m \u001b[39mas\u001b[39;00m err:\n",
      "File \u001b[0;32m~/anaconda3/envs/product_classification/lib/python3.10/site-packages/pandas/_libs/index.pyx:138\u001b[0m, in \u001b[0;36mpandas._libs.index.IndexEngine.get_loc\u001b[0;34m()\u001b[0m\n",
      "File \u001b[0;32m~/anaconda3/envs/product_classification/lib/python3.10/site-packages/pandas/_libs/index.pyx:165\u001b[0m, in \u001b[0;36mpandas._libs.index.IndexEngine.get_loc\u001b[0;34m()\u001b[0m\n",
      "File \u001b[0;32mpandas/_libs/hashtable_class_helper.pxi:5745\u001b[0m, in \u001b[0;36mpandas._libs.hashtable.PyObjectHashTable.get_item\u001b[0;34m()\u001b[0m\n",
      "File \u001b[0;32mpandas/_libs/hashtable_class_helper.pxi:5753\u001b[0m, in \u001b[0;36mpandas._libs.hashtable.PyObjectHashTable.get_item\u001b[0;34m()\u001b[0m\n",
      "\u001b[0;31mKeyError\u001b[0m: 'mirakl_model_code'",
      "\nThe above exception was the direct cause of the following exception:\n",
      "\u001b[0;31mKeyError\u001b[0m                                  Traceback (most recent call last)",
      "Cell \u001b[0;32mIn[30], line 4\u001b[0m\n\u001b[1;32m      1\u001b[0m \u001b[38;5;66;03m# Split the unique adeo_product_id\u001b[39;00m\n\u001b[1;32m      2\u001b[0m \u001b[38;5;66;03m# To ensure that a unique adeo_product_id exist in only 1 dataset - to avoid data leaking\u001b[39;00m\n\u001b[0;32m----> 4\u001b[0m train_val, test \u001b[38;5;241m=\u001b[39m train_test_split(df_unique, test_size\u001b[38;5;241m=\u001b[39m\u001b[38;5;241m0.1\u001b[39m, stratify\u001b[38;5;241m=\u001b[39m\u001b[43mdf_unique\u001b[49m\u001b[43m[\u001b[49m\u001b[43mlabel_raw_col\u001b[49m\u001b[43m]\u001b[49m)\n\u001b[1;32m      5\u001b[0m train, val \u001b[38;5;241m=\u001b[39m train_test_split(train_val, test_size\u001b[38;5;241m=\u001b[39m\u001b[38;5;241m0.1\u001b[39m, stratify\u001b[38;5;241m=\u001b[39mtrain_val[label_raw_col])\n",
      "File \u001b[0;32m~/anaconda3/envs/product_classification/lib/python3.10/site-packages/pandas/core/frame.py:3805\u001b[0m, in \u001b[0;36mDataFrame.__getitem__\u001b[0;34m(self, key)\u001b[0m\n\u001b[1;32m   3803\u001b[0m \u001b[39mif\u001b[39;00m \u001b[39mself\u001b[39m\u001b[39m.\u001b[39mcolumns\u001b[39m.\u001b[39mnlevels \u001b[39m>\u001b[39m \u001b[39m1\u001b[39m:\n\u001b[1;32m   3804\u001b[0m     \u001b[39mreturn\u001b[39;00m \u001b[39mself\u001b[39m\u001b[39m.\u001b[39m_getitem_multilevel(key)\n\u001b[0;32m-> 3805\u001b[0m indexer \u001b[39m=\u001b[39m \u001b[39mself\u001b[39;49m\u001b[39m.\u001b[39;49mcolumns\u001b[39m.\u001b[39;49mget_loc(key)\n\u001b[1;32m   3806\u001b[0m \u001b[39mif\u001b[39;00m is_integer(indexer):\n\u001b[1;32m   3807\u001b[0m     indexer \u001b[39m=\u001b[39m [indexer]\n",
      "File \u001b[0;32m~/anaconda3/envs/product_classification/lib/python3.10/site-packages/pandas/core/indexes/base.py:3805\u001b[0m, in \u001b[0;36mIndex.get_loc\u001b[0;34m(self, key, method, tolerance)\u001b[0m\n\u001b[1;32m   3803\u001b[0m     \u001b[39mreturn\u001b[39;00m \u001b[39mself\u001b[39m\u001b[39m.\u001b[39m_engine\u001b[39m.\u001b[39mget_loc(casted_key)\n\u001b[1;32m   3804\u001b[0m \u001b[39mexcept\u001b[39;00m \u001b[39mKeyError\u001b[39;00m \u001b[39mas\u001b[39;00m err:\n\u001b[0;32m-> 3805\u001b[0m     \u001b[39mraise\u001b[39;00m \u001b[39mKeyError\u001b[39;00m(key) \u001b[39mfrom\u001b[39;00m \u001b[39merr\u001b[39;00m\n\u001b[1;32m   3806\u001b[0m \u001b[39mexcept\u001b[39;00m \u001b[39mTypeError\u001b[39;00m:\n\u001b[1;32m   3807\u001b[0m     \u001b[39m# If we have a listlike key, _check_indexing_error will raise\u001b[39;00m\n\u001b[1;32m   3808\u001b[0m     \u001b[39m#  InvalidIndexError. Otherwise we fall through and re-raise\u001b[39;00m\n\u001b[1;32m   3809\u001b[0m     \u001b[39m#  the TypeError.\u001b[39;00m\n\u001b[1;32m   3810\u001b[0m     \u001b[39mself\u001b[39m\u001b[39m.\u001b[39m_check_indexing_error(key)\n",
      "\u001b[0;31mKeyError\u001b[0m: 'mirakl_model_code'"
     ]
    }
   ],
   "source": [
    "# Split the unique adeo_product_id\n",
    "# To ensure that a unique adeo_product_id exist in only 1 dataset - to avoid data leaking\n",
    "\n",
    "train_val, test = train_test_split(df_unique, test_size=0.1, stratify=df_unique[label_raw_col])\n",
    "train, val = train_test_split(train_val, test_size=0.1, stratify=train_val[label_raw_col])"
   ]
  },
  {
   "cell_type": "code",
   "execution_count": 24,
   "metadata": {},
   "outputs": [
    {
     "data": {
      "text/plain": [
       "Index(['id', 'adeo_product_id', 'attribute_code', 'attribute_label',\n",
       "       'attribute_type', 'is_multivalued', 'is_lov', 'attribute_value',\n",
       "       'lov_code', 'step_model_code', 'mirakl_model_code', 'data_source',\n",
       "       'description_clean'],\n",
       "      dtype='object')"
      ]
     },
     "execution_count": 24,
     "metadata": {},
     "output_type": "execute_result"
    }
   ],
   "source": [
    "val.columns"
   ]
  },
  {
   "cell_type": "code",
   "execution_count": 25,
   "metadata": {},
   "outputs": [
    {
     "data": {
      "text/plain": [
       "Index(['id', 'adeo_product_id', 'title', 'description', 'lang',\n",
       "       'attribute_code', 'attribute_label', 'attribute_type', 'is_multivalued',\n",
       "       'is_lov', 'attribute_value', 'lov_code', 'step_model_code',\n",
       "       'mirakl_model_code', 'data_source', 'description_clean'],\n",
       "      dtype='object')"
      ]
     },
     "execution_count": 25,
     "metadata": {},
     "output_type": "execute_result"
    }
   ],
   "source": [
    "df_cut.columns"
   ]
  },
  {
   "cell_type": "markdown",
   "metadata": {},
   "source": [
    "## Merge it back to the main df "
   ]
  },
  {
   "cell_type": "code",
   "execution_count": 57,
   "metadata": {},
   "outputs": [],
   "source": [
    "del val[label_raw_col]\n",
    "val = val.merge(df_cut, how=\"inner\", on=id_col)"
   ]
  },
  {
   "cell_type": "code",
   "execution_count": 58,
   "metadata": {},
   "outputs": [],
   "source": [
    "del train[label_raw_col]\n",
    "train = train.merge(df_cut, how=\"inner\", on=id_col)"
   ]
  },
  {
   "cell_type": "code",
   "execution_count": 59,
   "metadata": {},
   "outputs": [],
   "source": [
    "del test[label_raw_col]\n",
    "test = test.merge(df_cut, how=\"inner\", on=id_col)"
   ]
  },
  {
   "cell_type": "markdown",
   "metadata": {},
   "source": [
    "## Check for overlapping"
   ]
  },
  {
   "cell_type": "code",
   "execution_count": 60,
   "metadata": {},
   "outputs": [],
   "source": [
    "import numpy as np\n",
    "\n",
    "\n",
    "def check_if_overlap(df1, df2, on_column):\n",
    "    # merge two dataFrames and add indicator column\n",
    "    all_df = pd.merge(df1, df2, on=on_column, how=\"left\", indicator=\"exists\")\n",
    "    # add column to show if each row in first DataFrame exists in second\n",
    "    all_df[\"exists\"] = np.where(all_df.exists == \"both\", True, False)\n",
    "    if all_df[\"exists\"].sum() == 0:\n",
    "        print(\"These 2 dataframes are not overlapped over \", on_column)\n",
    "    else:\n",
    "        print(\"There are overlapped entries!!\")"
   ]
  },
  {
   "cell_type": "code",
   "execution_count": 61,
   "metadata": {},
   "outputs": [
    {
     "name": "stdout",
     "output_type": "stream",
     "text": [
      "These 2 dataframes are not overlapped over  adeo_product_id\n"
     ]
    }
   ],
   "source": [
    "check_if_overlap(val, train, id_col)"
   ]
  },
  {
   "cell_type": "code",
   "execution_count": 62,
   "metadata": {},
   "outputs": [
    {
     "name": "stdout",
     "output_type": "stream",
     "text": [
      "These 2 dataframes are not overlapped over  adeo_product_id\n"
     ]
    }
   ],
   "source": [
    "check_if_overlap(test, train, id_col)"
   ]
  },
  {
   "cell_type": "code",
   "execution_count": 63,
   "metadata": {},
   "outputs": [
    {
     "name": "stdout",
     "output_type": "stream",
     "text": [
      "These 2 dataframes are not overlapped over  adeo_product_id\n"
     ]
    }
   ],
   "source": [
    "check_if_overlap(test, val, id_col)"
   ]
  },
  {
   "cell_type": "markdown",
   "metadata": {},
   "source": [
    "## Summary"
   ]
  },
  {
   "cell_type": "code",
   "execution_count": 64,
   "metadata": {},
   "outputs": [
    {
     "name": "stdout",
     "output_type": "stream",
     "text": [
      "============================\n",
      "Full Dataset\n",
      "============================\n",
      "No. entries: 882085\n",
      "No. of models (categories / label):  100\n",
      "No. of entries removed due to num of samples < CUTOFF:  832085\n",
      "No. of models removed due to num of samples < CUTOFF:  0\n",
      "No. of entries removed due to lack of product information (no title & no description):  0\n",
      "No. of models removed due to to lack of product information (no title & no description):  0\n",
      "No. of entries after cut  50000\n",
      "No. of models after cut  100\n",
      "============================\n",
      "Train Dataset\n",
      "============================\n",
      "No. entries: 40464\n",
      "No. of models (categories / label):  100\n",
      "============================\n",
      "Val Dataset\n",
      "============================\n",
      "No. entries: 4547\n",
      "No. of models (categories / label):  100\n",
      "============================\n",
      "Test Dataset\n",
      "============================\n",
      "No. entries: 4989\n",
      "No. of models (categories / label):  100\n",
      "============================\n",
      "Verify if Dataset is correct\n",
      "============================\n",
      "The total no. of entries matched!!\n"
     ]
    }
   ],
   "source": [
    "print(\"============================\")\n",
    "print(\"Full Dataset\")\n",
    "print(\"============================\")\n",
    "print(\"No. entries:\", df.shape[0])\n",
    "print(\"No. of models (categories / label): \", df[label_raw_col].nunique())\n",
    "\n",
    "print(\"No. of entries removed due to num of samples < CUTOFF: \", sample_cut_lackofsample)\n",
    "print(\"No. of models removed due to num of samples < CUTOFF: \", model_cut_lackofsample)\n",
    "\n",
    "print(\n",
    "    \"No. of entries removed due to lack of product information (no title & no description): \",\n",
    "    sample_cut_lackofinfo,\n",
    ")\n",
    "print(\n",
    "    \"No. of models removed due to to lack of product information (no title & no description): \",\n",
    "    model_cut_lackofinfo,\n",
    ")\n",
    "\n",
    "print(\"No. of entries after cut \", (df_cut.shape[0]))\n",
    "print(\"No. of models after cut \", (df_cut[label_raw_col].nunique()))\n",
    "\n",
    "print(\"============================\")\n",
    "print(\"Train Dataset\")\n",
    "print(\"============================\")\n",
    "print(\"No. entries:\", train.shape[0])\n",
    "print(\"No. of models (categories / label): \", train[label_raw_col].nunique())\n",
    "\n",
    "print(\"============================\")\n",
    "print(\"Val Dataset\")\n",
    "print(\"============================\")\n",
    "print(\"No. entries:\", val.shape[0])\n",
    "print(\"No. of models (categories / label): \", val[label_raw_col].nunique())\n",
    "\n",
    "print(\"============================\")\n",
    "print(\"Test Dataset\")\n",
    "print(\"============================\")\n",
    "print(\"No. entries:\", test.shape[0])\n",
    "print(\"No. of models (categories / label): \", test[label_raw_col].nunique())\n",
    "\n",
    "\n",
    "print(\"============================\")\n",
    "print(\"Verify if Dataset is correct\")\n",
    "print(\"============================\")\n",
    "if train.shape[0] + val.shape[0] + test.shape[0] == df_cut.shape[0]:\n",
    "    print(\"The total no. of entries matched!!\")\n",
    "else:\n",
    "    print(\"No. of entries matching ERROR!!\")"
   ]
  },
  {
   "cell_type": "markdown",
   "metadata": {},
   "source": [
    "## Save train, val, test split separately"
   ]
  },
  {
   "cell_type": "code",
   "execution_count": 65,
   "metadata": {},
   "outputs": [
    {
     "data": {
      "text/html": [
       "<div>\n",
       "<style scoped>\n",
       "    .dataframe tbody tr th:only-of-type {\n",
       "        vertical-align: middle;\n",
       "    }\n",
       "\n",
       "    .dataframe tbody tr th {\n",
       "        vertical-align: top;\n",
       "    }\n",
       "\n",
       "    .dataframe thead th {\n",
       "        text-align: right;\n",
       "    }\n",
       "</style>\n",
       "<table border=\"1\" class=\"dataframe\">\n",
       "  <thead>\n",
       "    <tr style=\"text-align: right;\">\n",
       "      <th></th>\n",
       "      <th>id_x</th>\n",
       "      <th>adeo_product_id</th>\n",
       "      <th>attribute_code_x</th>\n",
       "      <th>attribute_label_x</th>\n",
       "      <th>attribute_type_x</th>\n",
       "      <th>is_multivalued_x</th>\n",
       "      <th>is_lov_x</th>\n",
       "      <th>attribute_value_x</th>\n",
       "      <th>lov_code_x</th>\n",
       "      <th>step_model_code_x</th>\n",
       "      <th>...</th>\n",
       "      <th>attribute_label_y</th>\n",
       "      <th>attribute_type_y</th>\n",
       "      <th>is_multivalued_y</th>\n",
       "      <th>is_lov_y</th>\n",
       "      <th>attribute_value_y</th>\n",
       "      <th>lov_code_y</th>\n",
       "      <th>step_model_code_y</th>\n",
       "      <th>mirakl_model_code</th>\n",
       "      <th>data_source_y</th>\n",
       "      <th>description_clean_y</th>\n",
       "    </tr>\n",
       "  </thead>\n",
       "  <tbody>\n",
       "    <tr>\n",
       "      <th>0</th>\n",
       "      <td>b'\\xf9\\x1f\\xf0l\\x93!\\xf7l\\xc9\\xeb\\xcf\\x98\\x15N...</td>\n",
       "      <td>84523702</td>\n",
       "      <td>2419</td>\n",
       "      <td>Stile</td>\n",
       "      <td>CHAR</td>\n",
       "      <td>0</td>\n",
       "      <td>1</td>\n",
       "      <td>['Industriale']</td>\n",
       "      <td>66578</td>\n",
       "      <td>202372</td>\n",
       "      <td>...</td>\n",
       "      <td>Stile</td>\n",
       "      <td>CHAR</td>\n",
       "      <td>0</td>\n",
       "      <td>1</td>\n",
       "      <td>['Industriale']</td>\n",
       "      <td>66578</td>\n",
       "      <td>202372</td>\n",
       "      <td>202372|1001|R13-001-014</td>\n",
       "      <td>BOMP</td>\n",
       "      <td>Il mix di legno di faggio francese proveniente...</td>\n",
       "    </tr>\n",
       "    <tr>\n",
       "      <th>1</th>\n",
       "      <td>b'\\xde\\xbbF!\\xf9\\xf5\\x7f\\xabl\\x96\\x0c\\xb3\\xabW...</td>\n",
       "      <td>83880234</td>\n",
       "      <td>562</td>\n",
       "      <td>Forme</td>\n",
       "      <td>CHAR</td>\n",
       "      <td>0</td>\n",
       "      <td>1</td>\n",
       "      <td>['Rectangulaire']</td>\n",
       "      <td>971</td>\n",
       "      <td>201492</td>\n",
       "      <td>...</td>\n",
       "      <td>Forme</td>\n",
       "      <td>CHAR</td>\n",
       "      <td>0</td>\n",
       "      <td>1</td>\n",
       "      <td>['Rectangulaire']</td>\n",
       "      <td>971</td>\n",
       "      <td>201492</td>\n",
       "      <td>201492|ACCESSOIRES_POUR_TONNELLE_ET_PERGOLA|TO...</td>\n",
       "      <td>BOMP</td>\n",
       "      <td>Toile d'ombrage imperméable de dimensions 9,00...</td>\n",
       "    </tr>\n",
       "    <tr>\n",
       "      <th>2</th>\n",
       "      <td>b'\\xe0\\xf4\\xeeI\\x80C\\xd3?\\x12\\xbe\\xa6\\xbb\\x828...</td>\n",
       "      <td>86552809</td>\n",
       "      <td>1746</td>\n",
       "      <td>Color</td>\n",
       "      <td>CHAR</td>\n",
       "      <td>1</td>\n",
       "      <td>1</td>\n",
       "      <td>['Negro']</td>\n",
       "      <td>1063</td>\n",
       "      <td>201438</td>\n",
       "      <td>...</td>\n",
       "      <td>Color</td>\n",
       "      <td>CHAR</td>\n",
       "      <td>1</td>\n",
       "      <td>1</td>\n",
       "      <td>['Negro']</td>\n",
       "      <td>1063</td>\n",
       "      <td>201438</td>\n",
       "      <td>201438|DALLE_DE_TERRASSE|SOL_POUR_TERRASSE_JAR...</td>\n",
       "      <td>BOMP</td>\n",
       "      <td>Esterilla deportiva Sport Moteado en Negro/Azu...</td>\n",
       "    </tr>\n",
       "    <tr>\n",
       "      <th>3</th>\n",
       "      <td>b'\\x8f\\xf28+&gt;G\\xcb\\xa3]\\x14\\xef\\x0e\\xf85-hjR}\\...</td>\n",
       "      <td>85102078</td>\n",
       "      <td>2419</td>\n",
       "      <td>Style</td>\n",
       "      <td>CHAR</td>\n",
       "      <td>0</td>\n",
       "      <td>1</td>\n",
       "      <td>['Scandinave']</td>\n",
       "      <td>200738</td>\n",
       "      <td>206190</td>\n",
       "      <td>...</td>\n",
       "      <td>Style</td>\n",
       "      <td>CHAR</td>\n",
       "      <td>0</td>\n",
       "      <td>1</td>\n",
       "      <td>['Scandinave']</td>\n",
       "      <td>200738</td>\n",
       "      <td>206190</td>\n",
       "      <td>206190|2040|R12-005-001</td>\n",
       "      <td>BOMP</td>\n",
       "      <td>Petit fauteuil crapaud en tissu SAVEA  Coloris...</td>\n",
       "    </tr>\n",
       "    <tr>\n",
       "      <th>4</th>\n",
       "      <td>b'\\xc8\\xa0\\x7fr\\xa6\\xaa[\\xb7SD\\xa4\\xba4\\x99\\x1...</td>\n",
       "      <td>83471776</td>\n",
       "      <td>2419</td>\n",
       "      <td>Style</td>\n",
       "      <td>CHAR</td>\n",
       "      <td>0</td>\n",
       "      <td>1</td>\n",
       "      <td>['Essentiel']</td>\n",
       "      <td>205444</td>\n",
       "      <td>202361</td>\n",
       "      <td>...</td>\n",
       "      <td>Style</td>\n",
       "      <td>CHAR</td>\n",
       "      <td>0</td>\n",
       "      <td>1</td>\n",
       "      <td>['Essentiel']</td>\n",
       "      <td>205444</td>\n",
       "      <td>202361</td>\n",
       "      <td>202361|SUSPENSION|LUSTRESUSPENSION|R13-001-005</td>\n",
       "      <td>BOMP</td>\n",
       "      <td>GLOBO, spot de convenance, qui pourra aussi bi...</td>\n",
       "    </tr>\n",
       "  </tbody>\n",
       "</table>\n",
       "<p>5 rows × 27 columns</p>\n",
       "</div>"
      ],
      "text/plain": [
       "                                                id_x  adeo_product_id  \\\n",
       "0  b'\\xf9\\x1f\\xf0l\\x93!\\xf7l\\xc9\\xeb\\xcf\\x98\\x15N...         84523702   \n",
       "1  b'\\xde\\xbbF!\\xf9\\xf5\\x7f\\xabl\\x96\\x0c\\xb3\\xabW...         83880234   \n",
       "2  b'\\xe0\\xf4\\xeeI\\x80C\\xd3?\\x12\\xbe\\xa6\\xbb\\x828...         86552809   \n",
       "3  b'\\x8f\\xf28+>G\\xcb\\xa3]\\x14\\xef\\x0e\\xf85-hjR}\\...         85102078   \n",
       "4  b'\\xc8\\xa0\\x7fr\\xa6\\xaa[\\xb7SD\\xa4\\xba4\\x99\\x1...         83471776   \n",
       "\n",
       "   attribute_code_x attribute_label_x attribute_type_x  is_multivalued_x  \\\n",
       "0              2419             Stile             CHAR                 0   \n",
       "1               562             Forme             CHAR                 0   \n",
       "2              1746             Color             CHAR                 1   \n",
       "3              2419             Style             CHAR                 0   \n",
       "4              2419             Style             CHAR                 0   \n",
       "\n",
       "   is_lov_x  attribute_value_x  lov_code_x  step_model_code_x  ...  \\\n",
       "0         1    ['Industriale']       66578             202372  ...   \n",
       "1         1  ['Rectangulaire']         971             201492  ...   \n",
       "2         1          ['Negro']        1063             201438  ...   \n",
       "3         1     ['Scandinave']      200738             206190  ...   \n",
       "4         1      ['Essentiel']      205444             202361  ...   \n",
       "\n",
       "  attribute_label_y attribute_type_y is_multivalued_y is_lov_y  \\\n",
       "0             Stile             CHAR                0        1   \n",
       "1             Forme             CHAR                0        1   \n",
       "2             Color             CHAR                1        1   \n",
       "3             Style             CHAR                0        1   \n",
       "4             Style             CHAR                0        1   \n",
       "\n",
       "   attribute_value_y lov_code_y  step_model_code_y  \\\n",
       "0    ['Industriale']      66578             202372   \n",
       "1  ['Rectangulaire']        971             201492   \n",
       "2          ['Negro']       1063             201438   \n",
       "3     ['Scandinave']     200738             206190   \n",
       "4      ['Essentiel']     205444             202361   \n",
       "\n",
       "                                   mirakl_model_code data_source_y  \\\n",
       "0                            202372|1001|R13-001-014          BOMP   \n",
       "1  201492|ACCESSOIRES_POUR_TONNELLE_ET_PERGOLA|TO...          BOMP   \n",
       "2  201438|DALLE_DE_TERRASSE|SOL_POUR_TERRASSE_JAR...          BOMP   \n",
       "3                            206190|2040|R12-005-001          BOMP   \n",
       "4     202361|SUSPENSION|LUSTRESUSPENSION|R13-001-005          BOMP   \n",
       "\n",
       "                                 description_clean_y  \n",
       "0  Il mix di legno di faggio francese proveniente...  \n",
       "1  Toile d'ombrage imperméable de dimensions 9,00...  \n",
       "2  Esterilla deportiva Sport Moteado en Negro/Azu...  \n",
       "3  Petit fauteuil crapaud en tissu SAVEA  Coloris...  \n",
       "4  GLOBO, spot de convenance, qui pourra aussi bi...  \n",
       "\n",
       "[5 rows x 27 columns]"
      ]
     },
     "execution_count": 65,
     "metadata": {},
     "output_type": "execute_result"
    }
   ],
   "source": [
    "train.head()"
   ]
  },
  {
   "cell_type": "code",
   "execution_count": 66,
   "metadata": {},
   "outputs": [
    {
     "ename": "TypeError",
     "evalue": "You have to supply one of 'by' and 'level'",
     "output_type": "error",
     "traceback": [
      "\u001b[0;31m---------------------------------------------------------------------------\u001b[0m",
      "\u001b[0;31mTypeError\u001b[0m                                 Traceback (most recent call last)",
      "Cell \u001b[0;32mIn[66], line 1\u001b[0m\n\u001b[0;32m----> 1\u001b[0m \u001b[43mtrain\u001b[49m\u001b[38;5;241;43m.\u001b[39;49m\u001b[43mgroupby\u001b[49m\u001b[43m(\u001b[49m\u001b[43m)\u001b[49m\n",
      "File \u001b[0;32m~/anaconda3/envs/product_classification/lib/python3.10/site-packages/pandas/core/frame.py:8396\u001b[0m, in \u001b[0;36mDataFrame.groupby\u001b[0;34m(self, by, axis, level, as_index, sort, group_keys, squeeze, observed, dropna)\u001b[0m\n\u001b[1;32m   8393\u001b[0m     squeeze \u001b[39m=\u001b[39m \u001b[39mFalse\u001b[39;00m\n\u001b[1;32m   8395\u001b[0m \u001b[39mif\u001b[39;00m level \u001b[39mis\u001b[39;00m \u001b[39mNone\u001b[39;00m \u001b[39mand\u001b[39;00m by \u001b[39mis\u001b[39;00m \u001b[39mNone\u001b[39;00m:\n\u001b[0;32m-> 8396\u001b[0m     \u001b[39mraise\u001b[39;00m \u001b[39mTypeError\u001b[39;00m(\u001b[39m\"\u001b[39m\u001b[39mYou have to supply one of \u001b[39m\u001b[39m'\u001b[39m\u001b[39mby\u001b[39m\u001b[39m'\u001b[39m\u001b[39m and \u001b[39m\u001b[39m'\u001b[39m\u001b[39mlevel\u001b[39m\u001b[39m'\u001b[39m\u001b[39m\"\u001b[39m)\n\u001b[1;32m   8397\u001b[0m axis \u001b[39m=\u001b[39m \u001b[39mself\u001b[39m\u001b[39m.\u001b[39m_get_axis_number(axis)\n\u001b[1;32m   8399\u001b[0m \u001b[39mreturn\u001b[39;00m DataFrameGroupBy(\n\u001b[1;32m   8400\u001b[0m     obj\u001b[39m=\u001b[39m\u001b[39mself\u001b[39m,\n\u001b[1;32m   8401\u001b[0m     keys\u001b[39m=\u001b[39mby,\n\u001b[0;32m   (...)\u001b[0m\n\u001b[1;32m   8409\u001b[0m     dropna\u001b[39m=\u001b[39mdropna,\n\u001b[1;32m   8410\u001b[0m )\n",
      "\u001b[0;31mTypeError\u001b[0m: You have to supply one of 'by' and 'level'"
     ]
    }
   ],
   "source": [
    "train.groupby()"
   ]
  },
  {
   "cell_type": "code",
   "execution_count": null,
   "metadata": {},
   "outputs": [],
   "source": [
    "train.toc_csv('../data/')"
   ]
  }
 ],
 "metadata": {
  "environment": {
   "kernel": "python3",
   "name": "common-cu110.m100",
   "type": "gcloud",
   "uri": "gcr.io/deeplearning-platform-release/base-cu110:m100"
  },
  "kernelspec": {
   "display_name": "Python 3.10.8 ('product_classification')",
   "language": "python",
   "name": "python3"
  },
  "language_info": {
   "codemirror_mode": {
    "name": "ipython",
    "version": 3
   },
   "file_extension": ".py",
   "mimetype": "text/x-python",
   "name": "python",
   "nbconvert_exporter": "python",
   "pygments_lexer": "ipython3",
   "version": "3.10.8"
  },
  "vscode": {
   "interpreter": {
    "hash": "10530e19dcdfe73a7151595320d247214b692837f071583cab392004ec8982fa"
   }
  }
 },
 "nbformat": 4,
 "nbformat_minor": 4
}
